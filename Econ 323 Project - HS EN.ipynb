{
 "cells": [
  {
   "cell_type": "markdown",
   "id": "c6746882-58c6-4304-9fd4-27dd83c3d5b7",
   "metadata": {},
   "source": [
    "## **Enhancing Asset Portfolio Optimization with Deep-Learning**\n",
    "\n",
    "By Harsh Sharma and Eric Nordal"
   ]
  },
  {
   "cell_type": "markdown",
   "id": "a3cafb36-f137-4e73-941d-7b8d63a693a9",
   "metadata": {
    "tags": []
   },
   "source": [
    "### <font color='blue'>1. Objective</font>"
   ]
  },
  {
   "cell_type": "markdown",
   "id": "53910986-f46b-45f9-8227-2f70f25635b4",
   "metadata": {},
   "source": [
    "Our project relates to asset portfolio optimization. Specifically, we use the concept of the efficient frontier from the Modern Portfolio Theory, and propose a solution that provides improved optimization results - enabling the risk-adjusted returns of the portfolio to move closer to the mathematical guarantee provided by the Markowitz model.\n",
    "\n",
    "We focus the study on financial assets - selecting the S&P 500 stocks as they appropriately proxy the overall stock market. Since historical stock behavior is not a precise indicator of future performance, we focus on improving the optimization by calculating the predicted expected returns that compare better than returns computed solely on the past data. For predictions we use a 'Deep learning' method called the 'long short-term memory' networks (LSTM). Subsequently, we feed the predicted values back in the Markowitz model to calculate a better-optimized asset portfolio."
   ]
  },
  {
   "cell_type": "markdown",
   "id": "24278dfd-8a23-4b9a-8e82-69db68bbb502",
   "metadata": {
    "tags": []
   },
   "source": [
    "### <font color='blue'>2. Relevant Concepts</font>\n",
    "\n",
    "The sections provides brief background knowledge of the relevant concepts used in this project."
   ]
  },
  {
   "cell_type": "markdown",
   "id": "fc7e8361-2f6f-4413-8354-46fdcfac5159",
   "metadata": {
    "tags": []
   },
   "source": [
    "#### 2.1 Efficient Frontier\n",
    "\n",
    "The efficient frontier is the set of optimal portfolios that offer the highest expected return for a defined level of risk or the lowest risk for a given level of expected return. Portfolios that lie below the efficient frontier are sub-optimal because they do not provide enough return for the level of risk. Portfolios that cluster to the right of the efficient frontier are sub-optimal because they have a higher level of risk for the defined rate of return [1].  \n",
    "\n",
    "<center><img src=\"https://raw.githubusercontent.com/hs235/Econ323Public/main/markowitz.png\" width=\"400px\" height=\"400px\"></center>\n",
    "\n",
    "Markowitz model, underlying the creation of the efficient frontier, has the following limitations:\n",
    "- Approach not based on current data; information is determined through historical data.\n",
    "- The model hinges on assumptions; sometimes, these assumptions become irrelevant, esp. with volatile markets.\n",
    "- Reliance on variance when it should ideally focus on risks. [2]"
   ]
  },
  {
   "cell_type": "markdown",
   "id": "a04b4c1a-a950-4d65-8e5e-83b7f7834328",
   "metadata": {
    "jp-MarkdownHeadingCollapsed": true,
    "tags": []
   },
   "source": [
    "#### 2.2 LSTM\n",
    "\n",
    "Long Short-Term Memory (LSTM) networks are a type of recurrent neural network capable of learning order dependence in sequence prediction problems.  \n",
    "    \n",
    "The central role of an LSTM model is held by a memory cell known as a ‘cell state’ that maintains its state over time. The cell state is the horizontal line that runs through the top of the below diagram. It can be visualized as a conveyor belt through which information flows unchanged. \n",
    "\n",
    "Information can be added to or removed from the cell state in LSTM and is regulated by gates. These gates optionally let the information flow in and out of the cell. It contains a pointwise multiplication operation and a sigmoid neural net layer that assist the mechanism. The sigmoid layer gives out numbers between zero and one, where zero means ‘nothing should be let through’, and one means ‘everything should be let through’ [3].\n",
    "\n",
    "<center><img src=\"https://raw.githubusercontent.com/hs235/Econ323Public/main/lstm.png\" width=\"500px\" height=\"250px\"></center>  \n",
    "\n",
    "Fischer and Krauss (2018) implemented the LSTM neural network to predict the directional movement of the constituent stocks of the S&P 500 from 1992 to 2015. The study found that the portfolio based on the LSTM outperformed the other machine learning models without a memory function (i.e., RF, DNN, and LR) [4].\n",
    "\n",
    "In summary, the LSTM model, is currently the state of the art for stock prediction in many use cases because:\n",
    "- The memory cells capture short-term and long-term seasonalities patterns\n",
    "- Different gates capture the non-linear relationships for forecasting"
   ]
  },
  {
   "cell_type": "markdown",
   "id": "f7b7b458-55b0-45df-b2b8-07e246f24bda",
   "metadata": {
    "tags": []
   },
   "source": [
    "### <font color='blue'>3. Problem Validation</font>"
   ]
  },
  {
   "cell_type": "markdown",
   "id": "74204b2e-b83b-4de4-bdf5-f437181099e7",
   "metadata": {},
   "source": [
    "We explore the validity of a significant assumption of the Markowitz model as applied in the financial setting i.e. historical returns and risks are good indicators of future expected behavior. Thus, we analyze (in CodeSection C) the returns of the S&P 500 index over the past five years and present the results in the two figures below. \n",
    "\n",
    "<img src=\"https://raw.githubusercontent.com/hs235/Econ323Public/main/sp500_histogram.png\" width=\"500\" height=\"375\" align=\"center\">\n",
    "\n",
    "It can be seen that the returns do not fully align with the Gaussian distribution:\n",
    "- Distribution is left skewed due to higher losses on the tail end compared to profits\n",
    "- Presence of extreme outliers on the tail ends due to large market fluctuations\n",
    "- Seems like the middle of the distribution curve has a scaled parameter effect, i.e. skinnier than the Gaussian distribution \n",
    "\n",
    "<img src=\"https://raw.githubusercontent.com/hs235/Econ323Public/main/sp500_qq.png\" width=\"500\" height=\"375\" align=\"center\">\n",
    "\n",
    "The qq plot above also confirms the previous observations. This means that a better optimization solution would involve a more accurate estimation of the asset's expected return for any long enough period. Further, it confirms that there are better representations than the risk calculated through standard deviation alone (based on a normal curve)."
   ]
  },
  {
   "cell_type": "markdown",
   "id": "42f8452f-4f8f-46db-9785-6d082554f041",
   "metadata": {
    "tags": []
   },
   "source": [
    "### <font color='blue'>4. Project Scope</font>"
   ]
  },
  {
   "cell_type": "markdown",
   "id": "cddba665-533a-433f-9a17-de36de852e5e",
   "metadata": {},
   "source": [
    "We define and limit the project scope per the following:\n",
    "\n",
    "1. Transaction fees, taxes, and other costs not factored into asset return\n",
    "2. Asset set limited to SP500\n",
    "3. Fixed time period outlook\n",
    "4. No shorting, options, or calls for asset allocation\n",
    "5. No intangibles considered (eg. selective divestment)"
   ]
  },
  {
   "cell_type": "markdown",
   "id": "6372f4f4-848d-46c2-bae7-bb709888a1a3",
   "metadata": {
    "tags": []
   },
   "source": [
    "### <font color='blue'>5. Data</font>"
   ]
  },
  {
   "cell_type": "markdown",
   "id": "2b8a508a-9173-46d0-9d19-5d2d253fa163",
   "metadata": {},
   "source": [
    "Following is a brief discussion of the three data sources used in the analysis. CodeSection B, below provides a detailed view of the data sets.\n",
    "\n",
    "a) Stock information data\n",
    "   - Individual data for S&P 500 companies is used\n",
    "   - Downloaded using API from IEXfinance to enable seamless information updates and real-time analysis (appendix#)\n",
    "   - Past five years of data is used\n",
    "   - Data is queried at a daily frequency so we have information resolution needed to predict at daily time steps\n",
    "   - For analysis, the 'close' values for stock are used\n",
    "\n",
    "b) S&P 500 index data\n",
    "   - Used for benchmarking and other exploratory data analysis\n",
    "   - Manually downloaded for past 5 years at a daily frequency\n",
    "\n",
    "c) S&P 500 sector data\n",
    "   - Manually downloaded to augment information for companies adding their sectors and sub-sectors  \n",
    "   - Provides deeper insight into results and is also used for rationality checks "
   ]
  },
  {
   "cell_type": "markdown",
   "id": "98b554c1-a57c-4801-828f-4574a3ddbdcb",
   "metadata": {
    "tags": []
   },
   "source": [
    "### <font color='blue'>6. Solution Design</font>"
   ]
  },
  {
   "cell_type": "markdown",
   "id": "116ed9b0-88f6-49fe-b8e7-30dd50bd241a",
   "metadata": {},
   "source": [
    "We design our solution selecting the following high level parameters and metrics.\n",
    "\n",
    "+ **Portfolio Optimization**\n",
    "\n",
    "    - *Expected returns:* annualized mean return in excess of market free rate\n",
    "    \n",
    "    - *Volatility:* standard deviation\n",
    "    \n",
    "    - *Optimization:* mean variance\n",
    "    \n",
    "+ **Performance Evaluation**\n",
    "    - Compare performance w.r.t. a benchmark i.e. S&P 500 index\n",
    "    \n",
    "    - Comparing actual returns between our model and control\n",
    "    \n",
    "    - Multiple point backtest\n",
    "\n",
    "+ **Asset Prediction**\n",
    "    - *Input variables:* Same as control otherwise difficult to ascertain predictive power between independant variables when using deep learning models\n",
    "    \n",
    "    - *Prediction window:* At least 1 week, but ideally a few months.\n",
    "    \n",
    "    - *Evaluation:* RMSE"
   ]
  },
  {
   "cell_type": "markdown",
   "id": "f313ab19-aa0c-48d5-b115-95516a24cf85",
   "metadata": {
    "tags": []
   },
   "source": [
    "### <font color='blue'>7. Discussion</font>\n",
    "\n",
    "This section includes commentary on noteworthy aspects of the analysis."
   ]
  },
  {
   "cell_type": "markdown",
   "id": "2a42bfa9-27f0-4471-932f-d7447a50f6bd",
   "metadata": {},
   "source": [
    "#### 7.1 Sharpe ratio calculation\n",
    "\n",
    "Given the volatile condition of the market in the past few years, one of the preliminary metrics to determine was the duration over which the Sharpe ratio should be calculated. It was essential to determine this so that the optimization results are meaningful in that they're not strongly influenced simply by the short duration over which they are calculated due to market crash.\n",
    "\n",
    "<img src=\"https://raw.githubusercontent.com/hs235/Econ323Public/main/SharpeRatio.png\" width=\"600px\" height=\"300px\">\n",
    "\n",
    "Thus, we plotted (in CodeSection F) the Sharpe ratio (dotted blue line in the figure above) as a function of time period. We notice that a stable value is reached if we consider the period over as the previous 10 quarters."
   ]
  },
  {
   "cell_type": "markdown",
   "id": "931c0c89-0bf1-4265-b830-330013cb4722",
   "metadata": {},
   "source": [
    "#### 7.2 Impact of Covid\n",
    "\n",
    "Upon initially optimizing the asset set with all SP500 companies, we noticed an issue with the optimizer for various and differing time intervals. This was because during covid, there was a significant dip in the market during that period, and many companies had a negative rate of return over that period. Also, for many companies, the returns continued to stay low for a more extended period after covid. This caused the average (historical) expected returns to be less than the market free rate, ultimately making the matrix not a positive semi-definite and resulting in the solver error.\n",
    "\n",
    "To reverse the negative numbers and ultimatley avoiding computational issues with the matrix, we added the following functionality to the optimization:\n",
    "- Allowed shorting\n",
    "- Fixed dollar amount allocation (to limit infinite shorting)\n",
    "- Regularization (to avoid extreme allocations in the portfolio)\n",
    "\n",
    "However, we did not test with these added functionalities due to the increased complexity in scope and limited time and compute resources.\n",
    "\n",
    "Instead, we filtered the SP500 companies that provided a non-negative rate of return. Then we further filtered to get the best 40 companies based on their Sharpe ratios. Theoretically, this would not impact the optimization in our case, as the filtered set has many companies left with a return/volatility ratio greater than 0. This allows the optimization to operate on a smaller set such that the portfolio allocation outcome is the same.\n",
    "\n",
    "We conducted (in CodeSection E) exploratory data analysis to understand the set of companies that had been filtered out due to a non-negative return (in excess of market free rate).\n",
    "\n",
    "<img src=\"https://raw.githubusercontent.com/hs235/Econ323Public/main/covid1.png\" width=\"600px\" height=\"300px\">\n",
    "\n",
    "We observed that specific sectors, such as real estate, energy, and materials, were disproportionately impacted. This result was in alignment with the impact covid had. For example, we choose real estate and further explore the sub-industries within that sector to get a more resolution on the effect.\n",
    "\n",
    "<img src=\"https://raw.githubusercontent.com/hs235/Econ323Public/main/covid2.png\" width=\"600px\" height=\"300px\">\n",
    "\n",
    "We can see above results are aligned with our hitorical knowledge - retail spaces, hotels, timber REITs were most impacted."
   ]
  },
  {
   "cell_type": "markdown",
   "id": "7b54ea0d-767e-4930-a278-eb116008f19a",
   "metadata": {},
   "source": [
    "#### 7.3 LSTM Models\n",
    "\n",
    "To optimize the LSTM model performance, we experimented with the following:\n",
    "- Two hidden layers vs one hidden layer\n",
    "- Different numbers of nodes in the hidden layers\n",
    "- Different activation functions\n",
    "\n",
    "We extensively tried to execute training on local GPU to no avail. We could execute on Goggle Colab GPU; however, it was much slower than the local CPU. Consequently, the code was executed on the local CPU. Thus, given the limited computing power and the extensive iterations of training required (one model per asset per period inspected), the experimentation of model parameters was done manually and iteratively instead of an automated process such as the gridCV search. \n",
    "\n",
    "Finally, we select a model with 2 hidden layers, 15 nodes each, with 'relu' activation function and 'adam' optimiser (CodeSection G). The model performs well for 1 time step ahead, with an average prediction falling within 7.55% of the actual stock value. However, the model performs poorly for multi-time steps ahead - significantly exaggerating the most recent trend.\n",
    "\n",
    "Thus, we proceed with the 1 time step prediction and more narrowly define the value of our project as a short-term optimizer which, for example, can be used for weekly portfolio rebalancing."
   ]
  },
  {
   "cell_type": "markdown",
   "id": "18b067d2-ab77-405c-ac5b-3f1f8f507581",
   "metadata": {
    "tags": []
   },
   "source": [
    "### <font color='blue'>8. Results</font>"
   ]
  },
  {
   "cell_type": "markdown",
   "id": "2d0d1a5d-fee0-4361-bfad-4a652b4534ec",
   "metadata": {},
   "source": [
    "The final selected LSTM model trains on individual companies to predict their stock price one week out. These forecasted results for all the companies are then optimized per the Markowitz model. The optimization works as per the following:\n",
    "\n",
    "- Asset returns are calculated based on the predicted values less the last asset price and normalized to yearly returns for parity\n",
    "- The risk is calculated based on the standard deviation of the assets, not including the period of prediction. This method ensures that the risk factor is held constant - allowing only our target variable to be different in comparison. \n",
    "\n",
    "Following is the summary table delineating the model performance and benchmarks:\n",
    "\n",
    "<center><img src=\"https://raw.githubusercontent.com/hs235/Econ323Public/main/eval.png\" width=\"400px\" height=\"300px\"></center>\n",
    "\n",
    "The above results are to be interpreted as the money, if invested at that particular date via the three methods, would provide the corresponding returns one week after.\n",
    "\n",
    "Due to time limitations, the current analysis was repeated for two arbitrary points, i.e. one at a recent date and another a quarter before that. Given the limited no. of comparison data points, it's inconclusive to comment on the true model performance. However, the model results are reasonable in the sense that the range is comparable to scenarios for investing in the S&P index fund and a portfolio optimized using the traditional Markowitz model.\n",
    "\n",
    "For future works, we recommend repeating the analysis for a continuous period to assess the model performance."
   ]
  },
  {
   "cell_type": "markdown",
   "id": "42956a29-16e7-4159-9c18-c1bbf560a494",
   "metadata": {
    "tags": []
   },
   "source": [
    "### <font color='blue'>9. References</font>"
   ]
  },
  {
   "cell_type": "markdown",
   "id": "21830692-96dc-40e8-ad95-ce7ed7f9cfff",
   "metadata": {},
   "source": [
    "1. https://www.investopedia.com/terms/e/efficientfrontier.asp\n",
    "\n",
    "2. https://www.wallstreetmojo.com/markowitz-model/#:~:text=The%20Harry%20Markowitz%20Model%20states,investor%20may%20have%20to%20bear.\n",
    "\n",
    "3. https://intellipaat.com/blog/what-is-lstm/?US#:~:text='%20LSTM%20stands%20for%20long%20short,especially%20in%20sequence%20prediction%20problems.\n",
    "\n",
    "4. Fischer, Thomas, and Christopher Krauss. 2018. Deep learning with long short-term memory networks for financial market predictions. European Journal of Operational Research 270: 654–69."
   ]
  },
  {
   "cell_type": "markdown",
   "id": "27908cb1-5a6c-4394-b47b-de8cef9f9e71",
   "metadata": {
    "tags": []
   },
   "source": [
    "### <font color='#CC0000'>CodeSection A: Overall Setup</font>"
   ]
  },
  {
   "cell_type": "markdown",
   "id": "fea0026a-127a-4507-9055-e91fb6711c8e",
   "metadata": {
    "tags": []
   },
   "source": [
    "#### Libraries"
   ]
  },
  {
   "cell_type": "code",
   "execution_count": 4,
   "id": "3ed84998-7943-4039-bd02-3bacfcb069e0",
   "metadata": {},
   "outputs": [],
   "source": [
    "## Importing necessesary libraries\n",
    "\n",
    "import pandas as pd\n",
    "import numpy as np\n",
    "import os as os\n",
    "import math\n",
    "import datetime as dt\n",
    "import matplotlib.pyplot as plt\n",
    "from pypfopt import EfficientFrontier\n",
    "from pypfopt import risk_models\n",
    "from pypfopt import expected_returns\n",
    "from pypfopt import objective_functions\n",
    "from pypfopt.discrete_allocation import DiscreteAllocation, get_latest_prices\n",
    "from sklearn.preprocessing import MinMaxScaler \n",
    "import tensorflow as tf\n",
    "from tensorflow import keras\n",
    "from tensorflow.keras import layers\n",
    "import time\n",
    "import warnings\n",
    "from scipy import stats\n",
    "import seaborn as sns\n",
    "import statsmodels.api as sm\n",
    "import pylab as py\n",
    "import plotly.graph_objects as go"
   ]
  },
  {
   "cell_type": "markdown",
   "id": "7735ceef-270f-448f-91c3-341382298b41",
   "metadata": {
    "tags": []
   },
   "source": [
    "#### Global Variables"
   ]
  },
  {
   "cell_type": "code",
   "execution_count": 5,
   "id": "c9e7742b-be9a-4975-953c-6ad1ad1f830f",
   "metadata": {},
   "outputs": [],
   "source": [
    "## Declaring Global Variables and global settings\n",
    "\n",
    "date_of_interest = '01-March-2023' #Demarkation point after which prediction starts, inputted by the user\n",
    "RiskFreeRate = 0.0425 #Current long-term average of US treasury rate for 10 year yield\n",
    "warnings.filterwarnings('ignore')"
   ]
  },
  {
   "cell_type": "markdown",
   "id": "58c7a327-83db-4370-a8b2-d484524f4f8e",
   "metadata": {
    "tags": []
   },
   "source": [
    "#### General Functions"
   ]
  },
  {
   "cell_type": "code",
   "execution_count": 369,
   "id": "c4f28d21-9e0a-4687-a6b4-1c04bca3e1e4",
   "metadata": {},
   "outputs": [],
   "source": [
    "## Defining Functions\n",
    "\n",
    "# To prevent breaking of optimizer for assets returning exp return less than market free rate \n",
    "def optimize_safe(df):\n",
    "    try:\n",
    "        optimize(df)\n",
    "    except:\n",
    "        return 'LowSharpeRatio', 'error'\n",
    "\n",
    "# Function to calculate net value change over a time period for a multi-asset portfolio\n",
    "def value_change(df, weights_df, period = 1):\n",
    "    value_2 = df.iloc[(-1)] @ weights_df.T\n",
    "    value_1 = df.iloc[(-1 - period)] @ weights_df.T\n",
    "    percent_return = 100*(value_2 - value_1)/value_1\n",
    "    return percent_return\n",
    "\n",
    "# Function to iterate a NxM dataframe into M dataframes of Nx2 each, where index is preserved onto all M generated dataframes\n",
    "def df_splitter(df):\n",
    "    splitted = [pd.DataFrame(df[col]) for col in df.columns]\n",
    "    return splitted"
   ]
  },
  {
   "cell_type": "markdown",
   "id": "9daba487-cf71-42ff-9ab1-13e0863004cf",
   "metadata": {
    "tags": []
   },
   "source": [
    "---\n",
    "\n",
    "### <font color='#CC0000'>CodeSection B: Data</font>\n",
    "\n",
    "This sections provides an overview of the main data sources used and displays a brief section for each:\n",
    "1. SP500 sector information\n",
    "2. SP500 index\n",
    "3. SP500 companies"
   ]
  },
  {
   "cell_type": "code",
   "execution_count": 10,
   "id": "a11f0953-f7ce-4ade-9329-57724dce9695",
   "metadata": {},
   "outputs": [
    {
     "data": {
      "text/html": [
       "<div>\n",
       "<style scoped>\n",
       "    .dataframe tbody tr th:only-of-type {\n",
       "        vertical-align: middle;\n",
       "    }\n",
       "\n",
       "    .dataframe tbody tr th {\n",
       "        vertical-align: top;\n",
       "    }\n",
       "\n",
       "    .dataframe thead th {\n",
       "        text-align: right;\n",
       "    }\n",
       "</style>\n",
       "<table border=\"1\" class=\"dataframe\">\n",
       "  <thead>\n",
       "    <tr style=\"text-align: right;\">\n",
       "      <th></th>\n",
       "      <th>symbol</th>\n",
       "      <th>security</th>\n",
       "      <th>sector</th>\n",
       "      <th>sub-industry</th>\n",
       "    </tr>\n",
       "  </thead>\n",
       "  <tbody>\n",
       "    <tr>\n",
       "      <th>0</th>\n",
       "      <td>MMM</td>\n",
       "      <td>3M</td>\n",
       "      <td>Industrials</td>\n",
       "      <td>Industrial Conglomerates</td>\n",
       "    </tr>\n",
       "    <tr>\n",
       "      <th>1</th>\n",
       "      <td>AOS</td>\n",
       "      <td>A. O. Smith</td>\n",
       "      <td>Industrials</td>\n",
       "      <td>Building Products</td>\n",
       "    </tr>\n",
       "    <tr>\n",
       "      <th>2</th>\n",
       "      <td>ABT</td>\n",
       "      <td>Abbott</td>\n",
       "      <td>Health Care</td>\n",
       "      <td>Health Care Equipment</td>\n",
       "    </tr>\n",
       "    <tr>\n",
       "      <th>3</th>\n",
       "      <td>ABBV</td>\n",
       "      <td>AbbVie</td>\n",
       "      <td>Health Care</td>\n",
       "      <td>Pharmaceuticals</td>\n",
       "    </tr>\n",
       "    <tr>\n",
       "      <th>4</th>\n",
       "      <td>ACN</td>\n",
       "      <td>Accenture</td>\n",
       "      <td>Information Technology</td>\n",
       "      <td>IT Consulting &amp; Other Services</td>\n",
       "    </tr>\n",
       "  </tbody>\n",
       "</table>\n",
       "</div>"
      ],
      "text/plain": [
       "  symbol     security                  sector                    sub-industry\n",
       "0    MMM           3M             Industrials        Industrial Conglomerates\n",
       "1    AOS  A. O. Smith             Industrials               Building Products\n",
       "2    ABT       Abbott             Health Care           Health Care Equipment\n",
       "3   ABBV       AbbVie             Health Care                 Pharmaceuticals\n",
       "4    ACN    Accenture  Information Technology  IT Consulting & Other Services"
      ]
     },
     "execution_count": 10,
     "metadata": {},
     "output_type": "execute_result"
    }
   ],
   "source": [
    "# Inputting data\n",
    "\n",
    "# Reading secondary data regarding sp500 companies\n",
    "sector = pd.read_csv(\"sp500SectorInfo.csv\")\n",
    "sector = sector[[\"symbol\",\"security\",\"sector\",\"sub-industry\"]]\n",
    "sector.head()"
   ]
  },
  {
   "cell_type": "code",
   "execution_count": 11,
   "id": "dd43bf75-bfba-4489-841c-bb1ed39876ea",
   "metadata": {},
   "outputs": [
    {
     "data": {
      "text/html": [
       "<div>\n",
       "<style scoped>\n",
       "    .dataframe tbody tr th:only-of-type {\n",
       "        vertical-align: middle;\n",
       "    }\n",
       "\n",
       "    .dataframe tbody tr th {\n",
       "        vertical-align: top;\n",
       "    }\n",
       "\n",
       "    .dataframe thead th {\n",
       "        text-align: right;\n",
       "    }\n",
       "</style>\n",
       "<table border=\"1\" class=\"dataframe\">\n",
       "  <thead>\n",
       "    <tr style=\"text-align: right;\">\n",
       "      <th></th>\n",
       "      <th>close</th>\n",
       "    </tr>\n",
       "    <tr>\n",
       "      <th>date</th>\n",
       "      <th></th>\n",
       "    </tr>\n",
       "  </thead>\n",
       "  <tbody>\n",
       "    <tr>\n",
       "      <th>2018-06-05</th>\n",
       "      <td>2748.80</td>\n",
       "    </tr>\n",
       "    <tr>\n",
       "      <th>2018-06-06</th>\n",
       "      <td>2772.35</td>\n",
       "    </tr>\n",
       "    <tr>\n",
       "      <th>2018-06-07</th>\n",
       "      <td>2770.37</td>\n",
       "    </tr>\n",
       "    <tr>\n",
       "      <th>2018-06-08</th>\n",
       "      <td>2779.03</td>\n",
       "    </tr>\n",
       "    <tr>\n",
       "      <th>2018-06-11</th>\n",
       "      <td>2782.00</td>\n",
       "    </tr>\n",
       "  </tbody>\n",
       "</table>\n",
       "</div>"
      ],
      "text/plain": [
       "              close\n",
       "date               \n",
       "2018-06-05  2748.80\n",
       "2018-06-06  2772.35\n",
       "2018-06-07  2770.37\n",
       "2018-06-08  2779.03\n",
       "2018-06-11  2782.00"
      ]
     },
     "execution_count": 11,
     "metadata": {},
     "output_type": "execute_result"
    }
   ],
   "source": [
    "# Reading data for sp500 index\n",
    "sp500 = pd.read_csv(\"INDEX_US_S&P 5yr.csv\", parse_dates=['date'])\n",
    "sp500.set_index('date', inplace=True)\n",
    "sp500 = sp500[['close']]\n",
    "sp500 = sp500.astype(float)\n",
    "sp500.sort_index(inplace=True)\n",
    "sp500.head()"
   ]
  },
  {
   "cell_type": "code",
   "execution_count": 12,
   "id": "21685e86-f9ea-400c-8291-568b9497d729",
   "metadata": {},
   "outputs": [],
   "source": [
    "# Reading stock marlet price data for sp500 companies\n",
    "data = pd.read_csv(\"data.csv\", parse_dates=['date'])\n",
    "data.set_index('date', inplace=True)\n",
    "data = data[['key', 'close']] #choosing to keep only closing pricesdf = data\n",
    "df = data\n",
    "df = pd.pivot_table(df, index='date', columns='key')"
   ]
  },
  {
   "cell_type": "code",
   "execution_count": 13,
   "id": "15c5e035-3fd2-4811-83d0-2e228ff573d2",
   "metadata": {},
   "outputs": [],
   "source": [
    "# Code to correct key/index arrangement\n",
    "df.to_csv('OutFile.csv')\n",
    "test = pd.read_csv('OutFile.csv')\n",
    "\n",
    "if test.columns.values[0] != \"date\":\n",
    "    test = test.rename(columns=test.iloc[0])\n",
    "    test.rename(columns={'key': 'date'}, inplace=True)\n",
    "    test = test.drop([0,1])\n",
    "    test = test.set_index(\"date\")\n",
    "    test.to_csv('OutFile.csv')\n",
    "#print(test)"
   ]
  },
  {
   "cell_type": "code",
   "execution_count": 14,
   "id": "0ce211b9-8038-4cb1-9de8-02eb0bb61f02",
   "metadata": {},
   "outputs": [
    {
     "data": {
      "text/html": [
       "<div>\n",
       "<style scoped>\n",
       "    .dataframe tbody tr th:only-of-type {\n",
       "        vertical-align: middle;\n",
       "    }\n",
       "\n",
       "    .dataframe tbody tr th {\n",
       "        vertical-align: top;\n",
       "    }\n",
       "\n",
       "    .dataframe thead th {\n",
       "        text-align: right;\n",
       "    }\n",
       "</style>\n",
       "<table border=\"1\" class=\"dataframe\">\n",
       "  <thead>\n",
       "    <tr style=\"text-align: right;\">\n",
       "      <th></th>\n",
       "      <th>A</th>\n",
       "      <th>AAL</th>\n",
       "      <th>AAP</th>\n",
       "      <th>AAPL</th>\n",
       "      <th>ABBV</th>\n",
       "      <th>ABC</th>\n",
       "      <th>ABT</th>\n",
       "      <th>ACGL</th>\n",
       "      <th>ACN</th>\n",
       "      <th>ADBE</th>\n",
       "      <th>...</th>\n",
       "      <th>WYNN</th>\n",
       "      <th>XEL</th>\n",
       "      <th>XOM</th>\n",
       "      <th>XRAY</th>\n",
       "      <th>XYL</th>\n",
       "      <th>YUM</th>\n",
       "      <th>ZBH</th>\n",
       "      <th>ZBRA</th>\n",
       "      <th>ZION</th>\n",
       "      <th>ZTS</th>\n",
       "    </tr>\n",
       "    <tr>\n",
       "      <th>date</th>\n",
       "      <th></th>\n",
       "      <th></th>\n",
       "      <th></th>\n",
       "      <th></th>\n",
       "      <th></th>\n",
       "      <th></th>\n",
       "      <th></th>\n",
       "      <th></th>\n",
       "      <th></th>\n",
       "      <th></th>\n",
       "      <th></th>\n",
       "      <th></th>\n",
       "      <th></th>\n",
       "      <th></th>\n",
       "      <th></th>\n",
       "      <th></th>\n",
       "      <th></th>\n",
       "      <th></th>\n",
       "      <th></th>\n",
       "      <th></th>\n",
       "      <th></th>\n",
       "    </tr>\n",
       "  </thead>\n",
       "  <tbody>\n",
       "    <tr>\n",
       "      <th>2018-06-05</th>\n",
       "      <td>63.52</td>\n",
       "      <td>44.18</td>\n",
       "      <td>129.95</td>\n",
       "      <td>48.3275</td>\n",
       "      <td>99.24</td>\n",
       "      <td>84.79</td>\n",
       "      <td>63.03</td>\n",
       "      <td>27.0267</td>\n",
       "      <td>159.92</td>\n",
       "      <td>252.70</td>\n",
       "      <td>...</td>\n",
       "      <td>176.88</td>\n",
       "      <td>43.32</td>\n",
       "      <td>80.68</td>\n",
       "      <td>42.29</td>\n",
       "      <td>71.66</td>\n",
       "      <td>82.91</td>\n",
       "      <td>113.14</td>\n",
       "      <td>156.78</td>\n",
       "      <td>NaN</td>\n",
       "      <td>84.76</td>\n",
       "    </tr>\n",
       "    <tr>\n",
       "      <th>2018-06-06</th>\n",
       "      <td>65.19</td>\n",
       "      <td>44.19</td>\n",
       "      <td>130.59</td>\n",
       "      <td>48.4950</td>\n",
       "      <td>99.98</td>\n",
       "      <td>87.15</td>\n",
       "      <td>63.54</td>\n",
       "      <td>27.2000</td>\n",
       "      <td>162.71</td>\n",
       "      <td>253.95</td>\n",
       "      <td>...</td>\n",
       "      <td>179.51</td>\n",
       "      <td>42.35</td>\n",
       "      <td>82.06</td>\n",
       "      <td>43.01</td>\n",
       "      <td>72.62</td>\n",
       "      <td>83.61</td>\n",
       "      <td>114.18</td>\n",
       "      <td>158.98</td>\n",
       "      <td>NaN</td>\n",
       "      <td>85.47</td>\n",
       "    </tr>\n",
       "    <tr>\n",
       "      <th>2018-06-07</th>\n",
       "      <td>65.23</td>\n",
       "      <td>43.84</td>\n",
       "      <td>130.05</td>\n",
       "      <td>48.3650</td>\n",
       "      <td>99.32</td>\n",
       "      <td>86.60</td>\n",
       "      <td>63.18</td>\n",
       "      <td>27.2133</td>\n",
       "      <td>160.61</td>\n",
       "      <td>247.51</td>\n",
       "      <td>...</td>\n",
       "      <td>176.25</td>\n",
       "      <td>42.72</td>\n",
       "      <td>82.88</td>\n",
       "      <td>43.11</td>\n",
       "      <td>73.11</td>\n",
       "      <td>84.19</td>\n",
       "      <td>113.67</td>\n",
       "      <td>158.17</td>\n",
       "      <td>NaN</td>\n",
       "      <td>85.66</td>\n",
       "    </tr>\n",
       "    <tr>\n",
       "      <th>2018-06-08</th>\n",
       "      <td>65.73</td>\n",
       "      <td>43.11</td>\n",
       "      <td>131.71</td>\n",
       "      <td>47.9250</td>\n",
       "      <td>100.43</td>\n",
       "      <td>86.09</td>\n",
       "      <td>63.27</td>\n",
       "      <td>28.0967</td>\n",
       "      <td>162.17</td>\n",
       "      <td>251.21</td>\n",
       "      <td>...</td>\n",
       "      <td>178.12</td>\n",
       "      <td>42.69</td>\n",
       "      <td>83.60</td>\n",
       "      <td>42.96</td>\n",
       "      <td>73.27</td>\n",
       "      <td>83.18</td>\n",
       "      <td>114.50</td>\n",
       "      <td>160.66</td>\n",
       "      <td>NaN</td>\n",
       "      <td>86.78</td>\n",
       "    </tr>\n",
       "    <tr>\n",
       "      <th>2018-06-11</th>\n",
       "      <td>66.13</td>\n",
       "      <td>44.16</td>\n",
       "      <td>132.73</td>\n",
       "      <td>47.8075</td>\n",
       "      <td>99.77</td>\n",
       "      <td>87.28</td>\n",
       "      <td>63.13</td>\n",
       "      <td>27.8267</td>\n",
       "      <td>162.75</td>\n",
       "      <td>251.00</td>\n",
       "      <td>...</td>\n",
       "      <td>180.82</td>\n",
       "      <td>42.13</td>\n",
       "      <td>83.10</td>\n",
       "      <td>43.40</td>\n",
       "      <td>71.82</td>\n",
       "      <td>83.11</td>\n",
       "      <td>114.21</td>\n",
       "      <td>158.78</td>\n",
       "      <td>NaN</td>\n",
       "      <td>87.06</td>\n",
       "    </tr>\n",
       "  </tbody>\n",
       "</table>\n",
       "<p>5 rows × 503 columns</p>\n",
       "</div>"
      ],
      "text/plain": [
       "                A    AAL     AAP     AAPL    ABBV    ABC    ABT     ACGL  \\\n",
       "date                                                                       \n",
       "2018-06-05  63.52  44.18  129.95  48.3275   99.24  84.79  63.03  27.0267   \n",
       "2018-06-06  65.19  44.19  130.59  48.4950   99.98  87.15  63.54  27.2000   \n",
       "2018-06-07  65.23  43.84  130.05  48.3650   99.32  86.60  63.18  27.2133   \n",
       "2018-06-08  65.73  43.11  131.71  47.9250  100.43  86.09  63.27  28.0967   \n",
       "2018-06-11  66.13  44.16  132.73  47.8075   99.77  87.28  63.13  27.8267   \n",
       "\n",
       "               ACN    ADBE  ...    WYNN    XEL    XOM   XRAY    XYL    YUM  \\\n",
       "date                        ...                                              \n",
       "2018-06-05  159.92  252.70  ...  176.88  43.32  80.68  42.29  71.66  82.91   \n",
       "2018-06-06  162.71  253.95  ...  179.51  42.35  82.06  43.01  72.62  83.61   \n",
       "2018-06-07  160.61  247.51  ...  176.25  42.72  82.88  43.11  73.11  84.19   \n",
       "2018-06-08  162.17  251.21  ...  178.12  42.69  83.60  42.96  73.27  83.18   \n",
       "2018-06-11  162.75  251.00  ...  180.82  42.13  83.10  43.40  71.82  83.11   \n",
       "\n",
       "               ZBH    ZBRA  ZION    ZTS  \n",
       "date                                     \n",
       "2018-06-05  113.14  156.78   NaN  84.76  \n",
       "2018-06-06  114.18  158.98   NaN  85.47  \n",
       "2018-06-07  113.67  158.17   NaN  85.66  \n",
       "2018-06-08  114.50  160.66   NaN  86.78  \n",
       "2018-06-11  114.21  158.78   NaN  87.06  \n",
       "\n",
       "[5 rows x 503 columns]"
      ]
     },
     "execution_count": 14,
     "metadata": {},
     "output_type": "execute_result"
    }
   ],
   "source": [
    "# Code to correct key/index arrangement\n",
    "df_original = pd.read_csv(\"OutFile.csv\", index_col='date', parse_dates=['date'])\n",
    "df=df_original.copy()\n",
    "df.head()"
   ]
  },
  {
   "cell_type": "markdown",
   "id": "0dda10f8-0b35-42e4-b074-dcf1611823c7",
   "metadata": {
    "tags": []
   },
   "source": [
    "### <font color='#CC0000'>CodeSection C: Distribution of SP500 Returns</font>\n",
    "\n",
    "In this section we examine the frequency distribution of returns from the SP500 index - which is a proxy indicator to the returns from the stock market. Aim is to determine how closely does it follow a gaussian distribution."
   ]
  },
  {
   "cell_type": "code",
   "execution_count": 109,
   "id": "e70d0c46-3a29-4be5-8aaa-6003b0c4fe35",
   "metadata": {},
   "outputs": [],
   "source": [
    "sp500_returns = sp500.copy()\n",
    "\n",
    "sp500_returns[\"daily\"] = (sp500_returns[\"close\"]/sp500_returns[\"close\"].shift(1))-1\n",
    "sp500_returns.dropna(inplace = True)\n",
    "sp500_returns = sp500_returns.resample(\"W\").mean()\n",
    "sp500_returns = sp500_returns.rename(columns={\"daily\": \"weekly return\"})\n",
    "#sp500_returns.head()"
   ]
  },
  {
   "cell_type": "code",
   "execution_count": 126,
   "id": "a8289bad-d7ed-4a9f-aabc-984a7a8e6cc8",
   "metadata": {},
   "outputs": [
    {
     "data": {
      "image/png": "[encoded data removed]",
      "text/plain": [
       "<Figure size 800x600 with 1 Axes>"
      ]
     },
     "metadata": {},
     "output_type": "display_data"
    }
   ],
   "source": [
    "# Plotting Histogram\n",
    "\n",
    "def normal(mean, std, histmax=False, color=\"orange\"):\n",
    "    \"\"\"Based on code from this post: https://stackoverflow.com/a/66893884\"\"\"\n",
    "    x = np.linspace(mean-4*std, mean+4*std, 200)\n",
    "    p = stats.norm.pdf(x, mean, std)\n",
    "    if histmax:\n",
    "        p = p*histmax/max(p)\n",
    "    z = plt.plot(x*100, p, color, linewidth=2, label=\"Theoretical Normal Distribution\")\n",
    "    return\n",
    "\n",
    "#data = np.random.normal(size=1000)    \n",
    "ax = sns.histplot(sp500_returns[\"weekly return\"]*100.0, kde=False, bins=200, stat=\"probability\", label=\"Actual S&P 500 Distribution\")\n",
    "normal(sp500_returns[\"weekly return\"].mean(), sp500_returns[\"weekly return\"].std(), histmax=ax.get_ylim()[1])\n",
    "ax.set(xlabel=\"Weekly Return (%)\", ylabel=\"Probability Density Function\")\n",
    "ax.legend()\n",
    "ax.set(title=\"Distribution of SP500 Index Returns\")\n",
    "sns.set(rc={\"figure.figsize\":(8,6)})\n",
    "#plt.savefig(\"sp500_histogram.png\") #uncomment to save again"
   ]
  },
  {
   "cell_type": "code",
   "execution_count": 108,
   "id": "7f736bf2-d809-419b-97b1-111d426338fb",
   "metadata": {},
   "outputs": [
    {
     "data": {
      "image/png": "[encoded data removed]",
      "text/plain": [
       "<Figure size 800x600 with 1 Axes>"
      ]
     },
     "metadata": {},
     "output_type": "display_data"
    }
   ],
   "source": [
    "# qq plot\n",
    "\n",
    "pp = sm.ProbPlot(sp500_returns[\"weekly return\"], fit=True)\n",
    "qq = pp.qqplot(marker='.', markerfacecolor='blue', markeredgecolor='blue', alpha=0.3)\n",
    "sm.qqline(qq.axes[0], line='45', fmt='k--')\n",
    "plt.title(\"QQ Plot: Weekly S&P500 Returns\")\n",
    "plt.show()\n",
    "#plt.savefig(\"sp500_qq.png\") #uncomment to save again"
   ]
  },
  {
   "cell_type": "markdown",
   "id": "7cde7d71-4543-4de3-a17f-e7be5662f39a",
   "metadata": {
    "tags": []
   },
   "source": [
    "### <font color='#CC0000'>CodeSection D: Optimizer</font>"
   ]
  },
  {
   "cell_type": "code",
   "execution_count": 408,
   "id": "c836ef24-91fb-4fa4-8f4b-d6e04edcee05",
   "metadata": {},
   "outputs": [],
   "source": [
    "## Portfolio Optimizer\n",
    "## Using the open source library from https://pypi.org/project/pyportfolio/\n",
    "\n",
    "def optimize(df_to_opt, forecast=False):\n",
    "    \n",
    "    #portfolio allocation\n",
    "    latest_prices = df_to_opt.iloc[-1,:]\n",
    "    \n",
    "    if (not forecast):\n",
    "        # Calculate expected returns and sample covariance\n",
    "        mu = expected_returns.mean_historical_return(df_to_opt)\n",
    "        S = risk_models.sample_cov(df_to_opt)\n",
    "        \n",
    "    if (forecast):\n",
    "        # Calculate expected returns and sample covariance\n",
    "        temporary = df_to_opt.tail(2)\n",
    "        temporary = temporary.pct_change()\n",
    "        temporary = temporary*52\n",
    "        mu = temporary.iloc[-1,:] #requires a series input\n",
    "                \n",
    "        #mu = expected_returns.mean_historical_return(temporary)\n",
    "        temporary2 = df_to_opt.iloc[:-1,:]  #not to include predicted value in calculating volatility metric\n",
    "        S = risk_models.sample_cov(temporary2)\n",
    "\n",
    "    # Optimize for maximal Sharpe ratio\n",
    "    ef = EfficientFrontier(mu, S, verbose=False) # weight_bounds=(0, 1)\n",
    "    #ef.add_objective(objective_functions.L2_reg, gamma=0.5) #adding regularization\n",
    "    raw_weights = ef.max_sharpe()\n",
    "    cleaned_weights = ef.clean_weights()\n",
    "    ef.save_weights_to_file(\"weights.csv\")  #saves to file\n",
    "    print(cleaned_weights)\n",
    "    opt_result = ef.portfolio_performance(verbose=True)\n",
    "    opt_weights = pd.DataFrame(cleaned_weights, columns=cleaned_weights.keys(), index=[0])\n",
    "    \n",
    "    # Portfolio dollar value allocation\n",
    "    #da = DiscreteAllocation(cleaned_weights, latest_prices, total_portfolio_value=10000)\n",
    "    #allocation, leftover = da.greedy_portfolio()\n",
    "    #print(\"Discrete allocation:\", allocation)\n",
    "    #print(\"Funds remaining: ${:.2f}\".format(leftover))\n",
    "    ##allocationDF = pd.DataFrame.from_dict(allocation)\n",
    "    ##allocationDF.to_csv(\"DiscreteAllocation.csv\")\n",
    "    \n",
    "    return opt_result, opt_weights"
   ]
  },
  {
   "cell_type": "markdown",
   "id": "83917bd6-cc70-43e1-886d-92c5be67462d",
   "metadata": {
    "tags": []
   },
   "source": [
    "### <font color='#CC0000'>CodeSection E: Covid Impact</font>"
   ]
  },
  {
   "cell_type": "markdown",
   "id": "e1af73c6-39de-454a-9c62-3003f2fc08a3",
   "metadata": {},
   "source": [
    "The prolonged duration and The following below code block shows that going past 1 year i.e. optimizer "
   ]
  },
  {
   "cell_type": "code",
   "execution_count": 39,
   "id": "8f06167b-64d2-47b3-9f96-5112b4caaefc",
   "metadata": {},
   "outputs": [],
   "source": [
    "%%capture\n",
    "# to check the optimum timeframe for optimiser\n",
    "optimize_vs_time = []\n",
    "quarters = 4 # value greater than 4 will result in error raised from computing the matrix \n",
    "\n",
    "for i in range(1, quarters+1, 1):\n",
    "    days = i*90    #90 days to step every quarter for upto 5 years\n",
    "    df_temp = df.tail(days)\n",
    "    opt_result, opt_weight = optimize(df_temp)\n",
    "    optimize_vs_time.append(opt_result)\n",
    "    \n",
    "del df_temp"
   ]
  },
  {
   "cell_type": "code",
   "execution_count": 41,
   "id": "21139c90-5261-49df-995f-4362e97b2b14",
   "metadata": {},
   "outputs": [
    {
     "data": {
      "text/plain": [
       "[(1.8402752392996244, 0.135758833219203, 13.408153238622173),\n",
       " (1.5971915792871345, 0.2043138679140145, 7.719454363963662),\n",
       " (0.9640297824512016, 0.19113765746900466, 4.939004667901655),\n",
       " (0.6644279001084338, 0.17251364143474002, 3.73551850595081)]"
      ]
     },
     "execution_count": 41,
     "metadata": {},
     "output_type": "execute_result"
    }
   ],
   "source": [
    "# ToDo Include Names on columns\n",
    "optimize_vs_time"
   ]
  },
  {
   "cell_type": "markdown",
   "id": "84110b9a-e4a8-484b-b73c-7a264ee22e3d",
   "metadata": {},
   "source": [
    "Identifying the companies that have valid non-negative returns over free market rate:"
   ]
  },
  {
   "cell_type": "code",
   "execution_count": 154,
   "id": "0ed05d4f-cd78-4322-ad1f-c302ec125a38",
   "metadata": {},
   "outputs": [],
   "source": [
    "%%capture\n",
    "\n",
    "filtered_assets = []\n",
    "\n",
    "for col in df:\n",
    "    temp = pd.DataFrame(df[col])\n",
    "    try:\n",
    "        optimize_old(temp)\n",
    "    except:\n",
    "        continue\n",
    "    else:\n",
    "        filtered_assets.append(col)"
   ]
  },
  {
   "cell_type": "code",
   "execution_count": 155,
   "id": "7c08dac2-ea8d-4835-a878-1b8211c60264",
   "metadata": {},
   "outputs": [
    {
     "name": "stdout",
     "output_type": "stream",
     "text": [
      "Filtered companies remaining in the optimization set: 343\n"
     ]
    }
   ],
   "source": [
    "print(f\"Filtered companies remaining in the optimization set: {len(filtered_assets)}\")"
   ]
  },
  {
   "cell_type": "code",
   "execution_count": 179,
   "id": "2ea96275-3033-4dcf-8487-35233ee71ccf",
   "metadata": {},
   "outputs": [
    {
     "data": {
      "text/html": [
       "<div>\n",
       "<style scoped>\n",
       "    .dataframe tbody tr th:only-of-type {\n",
       "        vertical-align: middle;\n",
       "    }\n",
       "\n",
       "    .dataframe tbody tr th {\n",
       "        vertical-align: top;\n",
       "    }\n",
       "\n",
       "    .dataframe thead th {\n",
       "        text-align: right;\n",
       "    }\n",
       "</style>\n",
       "<table border=\"1\" class=\"dataframe\">\n",
       "  <thead>\n",
       "    <tr style=\"text-align: right;\">\n",
       "      <th></th>\n",
       "      <th>A</th>\n",
       "      <th>AAPL</th>\n",
       "      <th>ABBV</th>\n",
       "      <th>ABC</th>\n",
       "      <th>ABT</th>\n",
       "      <th>ACGL</th>\n",
       "      <th>ACN</th>\n",
       "      <th>ADBE</th>\n",
       "      <th>ADI</th>\n",
       "      <th>ADM</th>\n",
       "      <th>...</th>\n",
       "      <th>WRB</th>\n",
       "      <th>WST</th>\n",
       "      <th>WTW</th>\n",
       "      <th>XEL</th>\n",
       "      <th>XOM</th>\n",
       "      <th>XYL</th>\n",
       "      <th>YUM</th>\n",
       "      <th>ZBH</th>\n",
       "      <th>ZBRA</th>\n",
       "      <th>ZTS</th>\n",
       "    </tr>\n",
       "    <tr>\n",
       "      <th>date</th>\n",
       "      <th></th>\n",
       "      <th></th>\n",
       "      <th></th>\n",
       "      <th></th>\n",
       "      <th></th>\n",
       "      <th></th>\n",
       "      <th></th>\n",
       "      <th></th>\n",
       "      <th></th>\n",
       "      <th></th>\n",
       "      <th></th>\n",
       "      <th></th>\n",
       "      <th></th>\n",
       "      <th></th>\n",
       "      <th></th>\n",
       "      <th></th>\n",
       "      <th></th>\n",
       "      <th></th>\n",
       "      <th></th>\n",
       "      <th></th>\n",
       "      <th></th>\n",
       "    </tr>\n",
       "  </thead>\n",
       "  <tbody>\n",
       "    <tr>\n",
       "      <th>2018-06-05</th>\n",
       "      <td>63.52</td>\n",
       "      <td>48.3275</td>\n",
       "      <td>99.24</td>\n",
       "      <td>84.79</td>\n",
       "      <td>63.03</td>\n",
       "      <td>27.0267</td>\n",
       "      <td>159.92</td>\n",
       "      <td>252.70</td>\n",
       "      <td>100.64</td>\n",
       "      <td>44.23</td>\n",
       "      <td>...</td>\n",
       "      <td>34.2622</td>\n",
       "      <td>95.03</td>\n",
       "      <td>153.14</td>\n",
       "      <td>43.32</td>\n",
       "      <td>80.68</td>\n",
       "      <td>71.66</td>\n",
       "      <td>82.91</td>\n",
       "      <td>113.14</td>\n",
       "      <td>156.78</td>\n",
       "      <td>84.76</td>\n",
       "    </tr>\n",
       "    <tr>\n",
       "      <th>2018-06-06</th>\n",
       "      <td>65.19</td>\n",
       "      <td>48.4950</td>\n",
       "      <td>99.98</td>\n",
       "      <td>87.15</td>\n",
       "      <td>63.54</td>\n",
       "      <td>27.2000</td>\n",
       "      <td>162.71</td>\n",
       "      <td>253.95</td>\n",
       "      <td>102.10</td>\n",
       "      <td>44.79</td>\n",
       "      <td>...</td>\n",
       "      <td>34.5778</td>\n",
       "      <td>96.33</td>\n",
       "      <td>154.91</td>\n",
       "      <td>42.35</td>\n",
       "      <td>82.06</td>\n",
       "      <td>72.62</td>\n",
       "      <td>83.61</td>\n",
       "      <td>114.18</td>\n",
       "      <td>158.98</td>\n",
       "      <td>85.47</td>\n",
       "    </tr>\n",
       "    <tr>\n",
       "      <th>2018-06-07</th>\n",
       "      <td>65.23</td>\n",
       "      <td>48.3650</td>\n",
       "      <td>99.32</td>\n",
       "      <td>86.60</td>\n",
       "      <td>63.18</td>\n",
       "      <td>27.2133</td>\n",
       "      <td>160.61</td>\n",
       "      <td>247.51</td>\n",
       "      <td>101.96</td>\n",
       "      <td>44.69</td>\n",
       "      <td>...</td>\n",
       "      <td>34.7556</td>\n",
       "      <td>95.30</td>\n",
       "      <td>155.89</td>\n",
       "      <td>42.72</td>\n",
       "      <td>82.88</td>\n",
       "      <td>73.11</td>\n",
       "      <td>84.19</td>\n",
       "      <td>113.67</td>\n",
       "      <td>158.17</td>\n",
       "      <td>85.66</td>\n",
       "    </tr>\n",
       "    <tr>\n",
       "      <th>2018-06-08</th>\n",
       "      <td>65.73</td>\n",
       "      <td>47.9250</td>\n",
       "      <td>100.43</td>\n",
       "      <td>86.09</td>\n",
       "      <td>63.27</td>\n",
       "      <td>28.0967</td>\n",
       "      <td>162.17</td>\n",
       "      <td>251.21</td>\n",
       "      <td>101.06</td>\n",
       "      <td>44.85</td>\n",
       "      <td>...</td>\n",
       "      <td>34.8044</td>\n",
       "      <td>96.75</td>\n",
       "      <td>158.13</td>\n",
       "      <td>42.69</td>\n",
       "      <td>83.60</td>\n",
       "      <td>73.27</td>\n",
       "      <td>83.18</td>\n",
       "      <td>114.50</td>\n",
       "      <td>160.66</td>\n",
       "      <td>86.78</td>\n",
       "    </tr>\n",
       "    <tr>\n",
       "      <th>2018-06-11</th>\n",
       "      <td>66.13</td>\n",
       "      <td>47.8075</td>\n",
       "      <td>99.77</td>\n",
       "      <td>87.28</td>\n",
       "      <td>63.13</td>\n",
       "      <td>27.8267</td>\n",
       "      <td>162.75</td>\n",
       "      <td>251.00</td>\n",
       "      <td>101.39</td>\n",
       "      <td>45.51</td>\n",
       "      <td>...</td>\n",
       "      <td>34.6533</td>\n",
       "      <td>97.27</td>\n",
       "      <td>157.51</td>\n",
       "      <td>42.13</td>\n",
       "      <td>83.10</td>\n",
       "      <td>71.82</td>\n",
       "      <td>83.11</td>\n",
       "      <td>114.21</td>\n",
       "      <td>158.78</td>\n",
       "      <td>87.06</td>\n",
       "    </tr>\n",
       "  </tbody>\n",
       "</table>\n",
       "<p>5 rows × 343 columns</p>\n",
       "</div>"
      ],
      "text/plain": [
       "                A     AAPL    ABBV    ABC    ABT     ACGL     ACN    ADBE  \\\n",
       "date                                                                        \n",
       "2018-06-05  63.52  48.3275   99.24  84.79  63.03  27.0267  159.92  252.70   \n",
       "2018-06-06  65.19  48.4950   99.98  87.15  63.54  27.2000  162.71  253.95   \n",
       "2018-06-07  65.23  48.3650   99.32  86.60  63.18  27.2133  160.61  247.51   \n",
       "2018-06-08  65.73  47.9250  100.43  86.09  63.27  28.0967  162.17  251.21   \n",
       "2018-06-11  66.13  47.8075   99.77  87.28  63.13  27.8267  162.75  251.00   \n",
       "\n",
       "               ADI    ADM  ...      WRB    WST     WTW    XEL    XOM    XYL  \\\n",
       "date                       ...                                                \n",
       "2018-06-05  100.64  44.23  ...  34.2622  95.03  153.14  43.32  80.68  71.66   \n",
       "2018-06-06  102.10  44.79  ...  34.5778  96.33  154.91  42.35  82.06  72.62   \n",
       "2018-06-07  101.96  44.69  ...  34.7556  95.30  155.89  42.72  82.88  73.11   \n",
       "2018-06-08  101.06  44.85  ...  34.8044  96.75  158.13  42.69  83.60  73.27   \n",
       "2018-06-11  101.39  45.51  ...  34.6533  97.27  157.51  42.13  83.10  71.82   \n",
       "\n",
       "              YUM     ZBH    ZBRA    ZTS  \n",
       "date                                      \n",
       "2018-06-05  82.91  113.14  156.78  84.76  \n",
       "2018-06-06  83.61  114.18  158.98  85.47  \n",
       "2018-06-07  84.19  113.67  158.17  85.66  \n",
       "2018-06-08  83.18  114.50  160.66  86.78  \n",
       "2018-06-11  83.11  114.21  158.78  87.06  \n",
       "\n",
       "[5 rows x 343 columns]"
      ]
     },
     "execution_count": 179,
     "metadata": {},
     "output_type": "execute_result"
    }
   ],
   "source": [
    "df_filtered = df[filtered_assets].copy()\n",
    "df_filtered.head()"
   ]
  },
  {
   "cell_type": "code",
   "execution_count": 161,
   "id": "0ddab150-d24a-49d0-a68a-c42dc6f33102",
   "metadata": {},
   "outputs": [],
   "source": [
    "%%capture\n",
    "\n",
    "filtered_assets_high = []\n",
    "sharpe_ratio = []\n",
    "\n",
    "for col in df_filtered:\n",
    "    temp = pd.DataFrame(df_filtered[col])\n",
    "    a, b = optimize_old(temp)\n",
    "    filtered_assets_high.append(col)\n",
    "    sharpe_ratio.append(a[2])"
   ]
  },
  {
   "cell_type": "code",
   "execution_count": 360,
   "id": "93f6ac96-9513-491b-95f0-13f3af7ad34c",
   "metadata": {},
   "outputs": [
    {
     "data": {
      "text/html": [
       "<div>\n",
       "<style scoped>\n",
       "    .dataframe tbody tr th:only-of-type {\n",
       "        vertical-align: middle;\n",
       "    }\n",
       "\n",
       "    .dataframe tbody tr th {\n",
       "        vertical-align: top;\n",
       "    }\n",
       "\n",
       "    .dataframe thead th {\n",
       "        text-align: right;\n",
       "    }\n",
       "</style>\n",
       "<table border=\"1\" class=\"dataframe\">\n",
       "  <thead>\n",
       "    <tr style=\"text-align: right;\">\n",
       "      <th></th>\n",
       "      <th>GEHC</th>\n",
       "      <th>ENPH</th>\n",
       "      <th>LLY</th>\n",
       "      <th>CARR</th>\n",
       "      <th>CEG</th>\n",
       "      <th>CDNS</th>\n",
       "      <th>SNPS</th>\n",
       "      <th>PWR</th>\n",
       "      <th>AZO</th>\n",
       "      <th>HSY</th>\n",
       "      <th>...</th>\n",
       "      <th>MOH</th>\n",
       "      <th>KLAC</th>\n",
       "      <th>RSG</th>\n",
       "      <th>AVGO</th>\n",
       "      <th>MSI</th>\n",
       "      <th>MMC</th>\n",
       "      <th>TMO</th>\n",
       "      <th>LIN</th>\n",
       "      <th>MSCI</th>\n",
       "      <th>BRO</th>\n",
       "    </tr>\n",
       "    <tr>\n",
       "      <th>date</th>\n",
       "      <th></th>\n",
       "      <th></th>\n",
       "      <th></th>\n",
       "      <th></th>\n",
       "      <th></th>\n",
       "      <th></th>\n",
       "      <th></th>\n",
       "      <th></th>\n",
       "      <th></th>\n",
       "      <th></th>\n",
       "      <th></th>\n",
       "      <th></th>\n",
       "      <th></th>\n",
       "      <th></th>\n",
       "      <th></th>\n",
       "      <th></th>\n",
       "      <th></th>\n",
       "      <th></th>\n",
       "      <th></th>\n",
       "      <th></th>\n",
       "      <th></th>\n",
       "    </tr>\n",
       "  </thead>\n",
       "  <tbody>\n",
       "    <tr>\n",
       "      <th>2018-06-05</th>\n",
       "      <td>NaN</td>\n",
       "      <td>5.62</td>\n",
       "      <td>84.82</td>\n",
       "      <td>NaN</td>\n",
       "      <td>NaN</td>\n",
       "      <td>43.69</td>\n",
       "      <td>90.30</td>\n",
       "      <td>36.95</td>\n",
       "      <td>654.14</td>\n",
       "      <td>90.50</td>\n",
       "      <td>...</td>\n",
       "      <td>85.64</td>\n",
       "      <td>118.13</td>\n",
       "      <td>67.94</td>\n",
       "      <td>259.26</td>\n",
       "      <td>112.34</td>\n",
       "      <td>81.11</td>\n",
       "      <td>214.77</td>\n",
       "      <td>NaN</td>\n",
       "      <td>163.71</td>\n",
       "      <td>28.15</td>\n",
       "    </tr>\n",
       "    <tr>\n",
       "      <th>2018-06-06</th>\n",
       "      <td>NaN</td>\n",
       "      <td>5.30</td>\n",
       "      <td>85.93</td>\n",
       "      <td>NaN</td>\n",
       "      <td>NaN</td>\n",
       "      <td>44.12</td>\n",
       "      <td>91.43</td>\n",
       "      <td>37.10</td>\n",
       "      <td>656.14</td>\n",
       "      <td>90.55</td>\n",
       "      <td>...</td>\n",
       "      <td>86.39</td>\n",
       "      <td>117.43</td>\n",
       "      <td>68.25</td>\n",
       "      <td>263.52</td>\n",
       "      <td>113.58</td>\n",
       "      <td>81.57</td>\n",
       "      <td>218.27</td>\n",
       "      <td>NaN</td>\n",
       "      <td>165.45</td>\n",
       "      <td>28.10</td>\n",
       "    </tr>\n",
       "    <tr>\n",
       "      <th>2018-06-07</th>\n",
       "      <td>NaN</td>\n",
       "      <td>5.32</td>\n",
       "      <td>85.88</td>\n",
       "      <td>NaN</td>\n",
       "      <td>NaN</td>\n",
       "      <td>44.08</td>\n",
       "      <td>90.12</td>\n",
       "      <td>37.14</td>\n",
       "      <td>664.81</td>\n",
       "      <td>91.08</td>\n",
       "      <td>...</td>\n",
       "      <td>86.69</td>\n",
       "      <td>115.93</td>\n",
       "      <td>68.12</td>\n",
       "      <td>264.68</td>\n",
       "      <td>112.22</td>\n",
       "      <td>82.19</td>\n",
       "      <td>216.46</td>\n",
       "      <td>NaN</td>\n",
       "      <td>165.22</td>\n",
       "      <td>28.12</td>\n",
       "    </tr>\n",
       "    <tr>\n",
       "      <th>2018-06-08</th>\n",
       "      <td>NaN</td>\n",
       "      <td>5.03</td>\n",
       "      <td>86.08</td>\n",
       "      <td>NaN</td>\n",
       "      <td>NaN</td>\n",
       "      <td>44.07</td>\n",
       "      <td>90.51</td>\n",
       "      <td>37.11</td>\n",
       "      <td>674.39</td>\n",
       "      <td>91.77</td>\n",
       "      <td>...</td>\n",
       "      <td>87.67</td>\n",
       "      <td>114.20</td>\n",
       "      <td>68.24</td>\n",
       "      <td>257.97</td>\n",
       "      <td>112.30</td>\n",
       "      <td>82.90</td>\n",
       "      <td>217.02</td>\n",
       "      <td>NaN</td>\n",
       "      <td>166.29</td>\n",
       "      <td>28.48</td>\n",
       "    </tr>\n",
       "    <tr>\n",
       "      <th>2018-06-11</th>\n",
       "      <td>NaN</td>\n",
       "      <td>4.62</td>\n",
       "      <td>85.86</td>\n",
       "      <td>NaN</td>\n",
       "      <td>NaN</td>\n",
       "      <td>44.25</td>\n",
       "      <td>90.59</td>\n",
       "      <td>36.82</td>\n",
       "      <td>690.01</td>\n",
       "      <td>92.41</td>\n",
       "      <td>...</td>\n",
       "      <td>90.84</td>\n",
       "      <td>112.47</td>\n",
       "      <td>68.72</td>\n",
       "      <td>260.83</td>\n",
       "      <td>112.51</td>\n",
       "      <td>82.41</td>\n",
       "      <td>217.34</td>\n",
       "      <td>NaN</td>\n",
       "      <td>166.49</td>\n",
       "      <td>28.59</td>\n",
       "    </tr>\n",
       "    <tr>\n",
       "      <th>...</th>\n",
       "      <td>...</td>\n",
       "      <td>...</td>\n",
       "      <td>...</td>\n",
       "      <td>...</td>\n",
       "      <td>...</td>\n",
       "      <td>...</td>\n",
       "      <td>...</td>\n",
       "      <td>...</td>\n",
       "      <td>...</td>\n",
       "      <td>...</td>\n",
       "      <td>...</td>\n",
       "      <td>...</td>\n",
       "      <td>...</td>\n",
       "      <td>...</td>\n",
       "      <td>...</td>\n",
       "      <td>...</td>\n",
       "      <td>...</td>\n",
       "      <td>...</td>\n",
       "      <td>...</td>\n",
       "      <td>...</td>\n",
       "      <td>...</td>\n",
       "    </tr>\n",
       "    <tr>\n",
       "      <th>2023-05-30</th>\n",
       "      <td>77.96</td>\n",
       "      <td>174.12</td>\n",
       "      <td>427.24</td>\n",
       "      <td>41.75</td>\n",
       "      <td>83.70</td>\n",
       "      <td>234.75</td>\n",
       "      <td>464.83</td>\n",
       "      <td>181.17</td>\n",
       "      <td>2454.64</td>\n",
       "      <td>256.37</td>\n",
       "      <td>...</td>\n",
       "      <td>269.86</td>\n",
       "      <td>458.73</td>\n",
       "      <td>142.00</td>\n",
       "      <td>803.34</td>\n",
       "      <td>285.03</td>\n",
       "      <td>174.32</td>\n",
       "      <td>514.22</td>\n",
       "      <td>354.91</td>\n",
       "      <td>471.41</td>\n",
       "      <td>62.98</td>\n",
       "    </tr>\n",
       "    <tr>\n",
       "      <th>2023-05-31</th>\n",
       "      <td>79.51</td>\n",
       "      <td>173.88</td>\n",
       "      <td>429.46</td>\n",
       "      <td>40.90</td>\n",
       "      <td>84.02</td>\n",
       "      <td>230.91</td>\n",
       "      <td>454.96</td>\n",
       "      <td>177.58</td>\n",
       "      <td>2386.84</td>\n",
       "      <td>259.70</td>\n",
       "      <td>...</td>\n",
       "      <td>273.90</td>\n",
       "      <td>442.99</td>\n",
       "      <td>141.63</td>\n",
       "      <td>807.96</td>\n",
       "      <td>281.92</td>\n",
       "      <td>173.18</td>\n",
       "      <td>508.46</td>\n",
       "      <td>353.66</td>\n",
       "      <td>470.53</td>\n",
       "      <td>62.33</td>\n",
       "    </tr>\n",
       "    <tr>\n",
       "      <th>2023-06-01</th>\n",
       "      <td>79.83</td>\n",
       "      <td>181.47</td>\n",
       "      <td>436.49</td>\n",
       "      <td>41.50</td>\n",
       "      <td>88.88</td>\n",
       "      <td>232.39</td>\n",
       "      <td>454.55</td>\n",
       "      <td>176.05</td>\n",
       "      <td>2373.58</td>\n",
       "      <td>259.66</td>\n",
       "      <td>...</td>\n",
       "      <td>282.97</td>\n",
       "      <td>452.53</td>\n",
       "      <td>142.73</td>\n",
       "      <td>789.95</td>\n",
       "      <td>282.22</td>\n",
       "      <td>174.42</td>\n",
       "      <td>519.38</td>\n",
       "      <td>355.49</td>\n",
       "      <td>466.97</td>\n",
       "      <td>62.75</td>\n",
       "    </tr>\n",
       "    <tr>\n",
       "      <th>2023-06-02</th>\n",
       "      <td>79.97</td>\n",
       "      <td>181.86</td>\n",
       "      <td>442.33</td>\n",
       "      <td>43.44</td>\n",
       "      <td>87.54</td>\n",
       "      <td>229.69</td>\n",
       "      <td>449.36</td>\n",
       "      <td>180.08</td>\n",
       "      <td>2381.23</td>\n",
       "      <td>260.91</td>\n",
       "      <td>...</td>\n",
       "      <td>287.17</td>\n",
       "      <td>458.06</td>\n",
       "      <td>144.50</td>\n",
       "      <td>812.00</td>\n",
       "      <td>282.73</td>\n",
       "      <td>176.40</td>\n",
       "      <td>520.14</td>\n",
       "      <td>360.47</td>\n",
       "      <td>478.76</td>\n",
       "      <td>63.79</td>\n",
       "    </tr>\n",
       "    <tr>\n",
       "      <th>2023-06-05</th>\n",
       "      <td>80.49</td>\n",
       "      <td>182.73</td>\n",
       "      <td>444.26</td>\n",
       "      <td>43.20</td>\n",
       "      <td>87.51</td>\n",
       "      <td>232.33</td>\n",
       "      <td>450.16</td>\n",
       "      <td>179.23</td>\n",
       "      <td>2339.95</td>\n",
       "      <td>259.48</td>\n",
       "      <td>...</td>\n",
       "      <td>293.14</td>\n",
       "      <td>458.05</td>\n",
       "      <td>143.74</td>\n",
       "      <td>802.30</td>\n",
       "      <td>283.25</td>\n",
       "      <td>177.16</td>\n",
       "      <td>518.58</td>\n",
       "      <td>362.81</td>\n",
       "      <td>480.81</td>\n",
       "      <td>63.68</td>\n",
       "    </tr>\n",
       "  </tbody>\n",
       "</table>\n",
       "<p>1259 rows × 40 columns</p>\n",
       "</div>"
      ],
      "text/plain": [
       "             GEHC    ENPH     LLY   CARR    CEG    CDNS    SNPS     PWR  \\\n",
       "date                                                                      \n",
       "2018-06-05    NaN    5.62   84.82    NaN    NaN   43.69   90.30   36.95   \n",
       "2018-06-06    NaN    5.30   85.93    NaN    NaN   44.12   91.43   37.10   \n",
       "2018-06-07    NaN    5.32   85.88    NaN    NaN   44.08   90.12   37.14   \n",
       "2018-06-08    NaN    5.03   86.08    NaN    NaN   44.07   90.51   37.11   \n",
       "2018-06-11    NaN    4.62   85.86    NaN    NaN   44.25   90.59   36.82   \n",
       "...           ...     ...     ...    ...    ...     ...     ...     ...   \n",
       "2023-05-30  77.96  174.12  427.24  41.75  83.70  234.75  464.83  181.17   \n",
       "2023-05-31  79.51  173.88  429.46  40.90  84.02  230.91  454.96  177.58   \n",
       "2023-06-01  79.83  181.47  436.49  41.50  88.88  232.39  454.55  176.05   \n",
       "2023-06-02  79.97  181.86  442.33  43.44  87.54  229.69  449.36  180.08   \n",
       "2023-06-05  80.49  182.73  444.26  43.20  87.51  232.33  450.16  179.23   \n",
       "\n",
       "                AZO     HSY  ...     MOH    KLAC     RSG    AVGO     MSI  \\\n",
       "date                         ...                                           \n",
       "2018-06-05   654.14   90.50  ...   85.64  118.13   67.94  259.26  112.34   \n",
       "2018-06-06   656.14   90.55  ...   86.39  117.43   68.25  263.52  113.58   \n",
       "2018-06-07   664.81   91.08  ...   86.69  115.93   68.12  264.68  112.22   \n",
       "2018-06-08   674.39   91.77  ...   87.67  114.20   68.24  257.97  112.30   \n",
       "2018-06-11   690.01   92.41  ...   90.84  112.47   68.72  260.83  112.51   \n",
       "...             ...     ...  ...     ...     ...     ...     ...     ...   \n",
       "2023-05-30  2454.64  256.37  ...  269.86  458.73  142.00  803.34  285.03   \n",
       "2023-05-31  2386.84  259.70  ...  273.90  442.99  141.63  807.96  281.92   \n",
       "2023-06-01  2373.58  259.66  ...  282.97  452.53  142.73  789.95  282.22   \n",
       "2023-06-02  2381.23  260.91  ...  287.17  458.06  144.50  812.00  282.73   \n",
       "2023-06-05  2339.95  259.48  ...  293.14  458.05  143.74  802.30  283.25   \n",
       "\n",
       "               MMC     TMO     LIN    MSCI    BRO  \n",
       "date                                               \n",
       "2018-06-05   81.11  214.77     NaN  163.71  28.15  \n",
       "2018-06-06   81.57  218.27     NaN  165.45  28.10  \n",
       "2018-06-07   82.19  216.46     NaN  165.22  28.12  \n",
       "2018-06-08   82.90  217.02     NaN  166.29  28.48  \n",
       "2018-06-11   82.41  217.34     NaN  166.49  28.59  \n",
       "...            ...     ...     ...     ...    ...  \n",
       "2023-05-30  174.32  514.22  354.91  471.41  62.98  \n",
       "2023-05-31  173.18  508.46  353.66  470.53  62.33  \n",
       "2023-06-01  174.42  519.38  355.49  466.97  62.75  \n",
       "2023-06-02  176.40  520.14  360.47  478.76  63.79  \n",
       "2023-06-05  177.16  518.58  362.81  480.81  63.68  \n",
       "\n",
       "[1259 rows x 40 columns]"
      ]
     },
     "execution_count": 360,
     "metadata": {},
     "output_type": "execute_result"
    }
   ],
   "source": [
    "df_filtered_high = pd.DataFrame(list(zip(filtered_assets_high, sharpe_ratio)))\n",
    "df_filtered_high = df_filtered_high.sort_values(1, ascending=False)\n",
    "filtering_list = df_filtered_high.head(40).copy()\n",
    "list_40=list(filtering_list[0])\n",
    "df_filtered = df[list_40].copy()\n",
    "df_filtered"
   ]
  },
  {
   "cell_type": "markdown",
   "id": "6505e736-7969-47c9-9a59-660f5353bcd0",
   "metadata": {
    "tags": []
   },
   "source": [
    "Analyzing filtered companies by sector info to detect any relevant patterns:"
   ]
  },
  {
   "cell_type": "code",
   "execution_count": 134,
   "id": "e5d37dbb-890f-4de3-a74c-a04a7428a500",
   "metadata": {},
   "outputs": [],
   "source": [
    "j = pd.DataFrame(df.columns)\n",
    "j.rename(columns = {0:'ticker'}, inplace = True)\n",
    "sector_dist = pd.merge(j, sector, how=\"left\", left_on=\"ticker\", right_on=\"symbol\")\n",
    "del j\n",
    "sector_dist.drop(\"symbol\", axis=1, inplace=True)\n",
    "a = pd.DataFrame(sector_dist['sector'].value_counts())"
   ]
  },
  {
   "cell_type": "code",
   "execution_count": 135,
   "id": "2eb01689-fe55-4598-9890-5b45306cde51",
   "metadata": {},
   "outputs": [],
   "source": [
    "j = pd.DataFrame(df_filtered.columns)\n",
    "j.rename(columns = {0:'ticker'}, inplace = True)\n",
    "filt_sector_dist = pd.merge(j, sector, how=\"left\", left_on=\"ticker\", right_on=\"symbol\")\n",
    "del j\n",
    "filt_sector_dist.drop(\"symbol\", axis=1, inplace=True)\n",
    "b = filt_sector_dist['sector'].value_counts()"
   ]
  },
  {
   "cell_type": "code",
   "execution_count": 136,
   "id": "503fd580-9386-4d19-b533-3a59a9c6ab31",
   "metadata": {},
   "outputs": [],
   "source": [
    "a['Remaining Count'] = b\n",
    "a[\"Remaining %\"] = 100*(a[\"Remaining Count\"]/a[\"sector\"])\n",
    "a.sort_values('Remaining %', ascending=False, inplace=True)\n",
    "a = a.round(1)"
   ]
  },
  {
   "cell_type": "code",
   "execution_count": 151,
   "id": "374c9283-8725-44de-a892-836684b14188",
   "metadata": {},
   "outputs": [
    {
     "data": {
      "application/vnd.plotly.v1+json": {
       "config": {
        "plotlyServerURL": "https://plot.ly"
       },
       "data": [
        {
         "name": "Remaining %",
         "text": [
          81.5,
          80.3,
          75.7,
          73.3,
          73,
          60.4,
          59.2,
          58.6,
          56.5,
          53.3,
          47.8
         ],
         "type": "bar",
         "x": [
          "Health Care",
          "Information Technology",
          "Industrials",
          "Utilities",
          "Consumer Staples",
          "Consumer Discretionary",
          "Financials",
          "Materials",
          "Communication Services",
          "Real Estate",
          "Energy"
         ],
         "y": [
          81.5,
          80.3,
          75.7,
          73.3,
          73,
          60.4,
          59.2,
          58.6,
          56.5,
          53.3,
          47.8
         ]
        }
       ],
       "layout": {
        "autosize": true,
        "legend": {
         "title": {
          "text": "High Performers"
         }
        },
        "template": {
         "data": {
          "bar": [
           {
            "error_x": {
             "color": "#2a3f5f"
            },
            "error_y": {
             "color": "#2a3f5f"
            },
            "marker": {
             "line": {
              "color": "#E5ECF6",
              "width": 0.5
             },
             "pattern": {
              "fillmode": "overlay",
              "size": 10,
              "solidity": 0.2
             }
            },
            "type": "bar"
           }
          ],
          "barpolar": [
           {
            "marker": {
             "line": {
              "color": "#E5ECF6",
              "width": 0.5
             },
             "pattern": {
              "fillmode": "overlay",
              "size": 10,
              "solidity": 0.2
             }
            },
            "type": "barpolar"
           }
          ],
          "carpet": [
           {
            "aaxis": {
             "endlinecolor": "#2a3f5f",
             "gridcolor": "white",
             "linecolor": "white",
             "minorgridcolor": "white",
             "startlinecolor": "#2a3f5f"
            },
            "baxis": {
             "endlinecolor": "#2a3f5f",
             "gridcolor": "white",
             "linecolor": "white",
             "minorgridcolor": "white",
             "startlinecolor": "#2a3f5f"
            },
            "type": "carpet"
           }
          ],
          "choropleth": [
           {
            "colorbar": {
             "outlinewidth": 0,
             "ticks": ""
            },
            "type": "choropleth"
           }
          ],
          "contour": [
           {
            "colorbar": {
             "outlinewidth": 0,
             "ticks": ""
            },
            "colorscale": [
             [
              0,
              "#0d0887"
             ],
             [
              0.1111111111111111,
              "#46039f"
             ],
             [
              0.2222222222222222,
              "#7201a8"
             ],
             [
              0.3333333333333333,
              "#9c179e"
             ],
             [
              0.4444444444444444,
              "#bd3786"
             ],
             [
              0.5555555555555556,
              "#d8576b"
             ],
             [
              0.6666666666666666,
              "#ed7953"
             ],
             [
              0.7777777777777778,
              "#fb9f3a"
             ],
             [
              0.8888888888888888,
              "#fdca26"
             ],
             [
              1,
              "#f0f921"
             ]
            ],
            "type": "contour"
           }
          ],
          "contourcarpet": [
           {
            "colorbar": {
             "outlinewidth": 0,
             "ticks": ""
            },
            "type": "contourcarpet"
           }
          ],
          "heatmap": [
           {
            "colorbar": {
             "outlinewidth": 0,
             "ticks": ""
            },
            "colorscale": [
             [
              0,
              "#0d0887"
             ],
             [
              0.1111111111111111,
              "#46039f"
             ],
             [
              0.2222222222222222,
              "#7201a8"
             ],
             [
              0.3333333333333333,
              "#9c179e"
             ],
             [
              0.4444444444444444,
              "#bd3786"
             ],
             [
              0.5555555555555556,
              "#d8576b"
             ],
             [
              0.6666666666666666,
              "#ed7953"
             ],
             [
              0.7777777777777778,
              "#fb9f3a"
             ],
             [
              0.8888888888888888,
              "#fdca26"
             ],
             [
              1,
              "#f0f921"
             ]
            ],
            "type": "heatmap"
           }
          ],
          "heatmapgl": [
           {
            "colorbar": {
             "outlinewidth": 0,
             "ticks": ""
            },
            "colorscale": [
             [
              0,
              "#0d0887"
             ],
             [
              0.1111111111111111,
              "#46039f"
             ],
             [
              0.2222222222222222,
              "#7201a8"
             ],
             [
              0.3333333333333333,
              "#9c179e"
             ],
             [
              0.4444444444444444,
              "#bd3786"
             ],
             [
              0.5555555555555556,
              "#d8576b"
             ],
             [
              0.6666666666666666,
              "#ed7953"
             ],
             [
              0.7777777777777778,
              "#fb9f3a"
             ],
             [
              0.8888888888888888,
              "#fdca26"
             ],
             [
              1,
              "#f0f921"
             ]
            ],
            "type": "heatmapgl"
           }
          ],
          "histogram": [
           {
            "marker": {
             "pattern": {
              "fillmode": "overlay",
              "size": 10,
              "solidity": 0.2
             }
            },
            "type": "histogram"
           }
          ],
          "histogram2d": [
           {
            "colorbar": {
             "outlinewidth": 0,
             "ticks": ""
            },
            "colorscale": [
             [
              0,
              "#0d0887"
             ],
             [
              0.1111111111111111,
              "#46039f"
             ],
             [
              0.2222222222222222,
              "#7201a8"
             ],
             [
              0.3333333333333333,
              "#9c179e"
             ],
             [
              0.4444444444444444,
              "#bd3786"
             ],
             [
              0.5555555555555556,
              "#d8576b"
             ],
             [
              0.6666666666666666,
              "#ed7953"
             ],
             [
              0.7777777777777778,
              "#fb9f3a"
             ],
             [
              0.8888888888888888,
              "#fdca26"
             ],
             [
              1,
              "#f0f921"
             ]
            ],
            "type": "histogram2d"
           }
          ],
          "histogram2dcontour": [
           {
            "colorbar": {
             "outlinewidth": 0,
             "ticks": ""
            },
            "colorscale": [
             [
              0,
              "#0d0887"
             ],
             [
              0.1111111111111111,
              "#46039f"
             ],
             [
              0.2222222222222222,
              "#7201a8"
             ],
             [
              0.3333333333333333,
              "#9c179e"
             ],
             [
              0.4444444444444444,
              "#bd3786"
             ],
             [
              0.5555555555555556,
              "#d8576b"
             ],
             [
              0.6666666666666666,
              "#ed7953"
             ],
             [
              0.7777777777777778,
              "#fb9f3a"
             ],
             [
              0.8888888888888888,
              "#fdca26"
             ],
             [
              1,
              "#f0f921"
             ]
            ],
            "type": "histogram2dcontour"
           }
          ],
          "mesh3d": [
           {
            "colorbar": {
             "outlinewidth": 0,
             "ticks": ""
            },
            "type": "mesh3d"
           }
          ],
          "parcoords": [
           {
            "line": {
             "colorbar": {
              "outlinewidth": 0,
              "ticks": ""
             }
            },
            "type": "parcoords"
           }
          ],
          "pie": [
           {
            "automargin": true,
            "type": "pie"
           }
          ],
          "scatter": [
           {
            "fillpattern": {
             "fillmode": "overlay",
             "size": 10,
             "solidity": 0.2
            },
            "type": "scatter"
           }
          ],
          "scatter3d": [
           {
            "line": {
             "colorbar": {
              "outlinewidth": 0,
              "ticks": ""
             }
            },
            "marker": {
             "colorbar": {
              "outlinewidth": 0,
              "ticks": ""
             }
            },
            "type": "scatter3d"
           }
          ],
          "scattercarpet": [
           {
            "marker": {
             "colorbar": {
              "outlinewidth": 0,
              "ticks": ""
             }
            },
            "type": "scattercarpet"
           }
          ],
          "scattergeo": [
           {
            "marker": {
             "colorbar": {
              "outlinewidth": 0,
              "ticks": ""
             }
            },
            "type": "scattergeo"
           }
          ],
          "scattergl": [
           {
            "marker": {
             "colorbar": {
              "outlinewidth": 0,
              "ticks": ""
             }
            },
            "type": "scattergl"
           }
          ],
          "scattermapbox": [
           {
            "marker": {
             "colorbar": {
              "outlinewidth": 0,
              "ticks": ""
             }
            },
            "type": "scattermapbox"
           }
          ],
          "scatterpolar": [
           {
            "marker": {
             "colorbar": {
              "outlinewidth": 0,
              "ticks": ""
             }
            },
            "type": "scatterpolar"
           }
          ],
          "scatterpolargl": [
           {
            "marker": {
             "colorbar": {
              "outlinewidth": 0,
              "ticks": ""
             }
            },
            "type": "scatterpolargl"
           }
          ],
          "scatterternary": [
           {
            "marker": {
             "colorbar": {
              "outlinewidth": 0,
              "ticks": ""
             }
            },
            "type": "scatterternary"
           }
          ],
          "surface": [
           {
            "colorbar": {
             "outlinewidth": 0,
             "ticks": ""
            },
            "colorscale": [
             [
              0,
              "#0d0887"
             ],
             [
              0.1111111111111111,
              "#46039f"
             ],
             [
              0.2222222222222222,
              "#7201a8"
             ],
             [
              0.3333333333333333,
              "#9c179e"
             ],
             [
              0.4444444444444444,
              "#bd3786"
             ],
             [
              0.5555555555555556,
              "#d8576b"
             ],
             [
              0.6666666666666666,
              "#ed7953"
             ],
             [
              0.7777777777777778,
              "#fb9f3a"
             ],
             [
              0.8888888888888888,
              "#fdca26"
             ],
             [
              1,
              "#f0f921"
             ]
            ],
            "type": "surface"
           }
          ],
          "table": [
           {
            "cells": {
             "fill": {
              "color": "#EBF0F8"
             },
             "line": {
              "color": "white"
             }
            },
            "header": {
             "fill": {
              "color": "#C8D4E3"
             },
             "line": {
              "color": "white"
             }
            },
            "type": "table"
           }
          ]
         },
         "layout": {
          "annotationdefaults": {
           "arrowcolor": "#2a3f5f",
           "arrowhead": 0,
           "arrowwidth": 1
          },
          "autotypenumbers": "strict",
          "coloraxis": {
           "colorbar": {
            "outlinewidth": 0,
            "ticks": ""
           }
          },
          "colorscale": {
           "diverging": [
            [
             0,
             "#8e0152"
            ],
            [
             0.1,
             "#c51b7d"
            ],
            [
             0.2,
             "#de77ae"
            ],
            [
             0.3,
             "#f1b6da"
            ],
            [
             0.4,
             "#fde0ef"
            ],
            [
             0.5,
             "#f7f7f7"
            ],
            [
             0.6,
             "#e6f5d0"
            ],
            [
             0.7,
             "#b8e186"
            ],
            [
             0.8,
             "#7fbc41"
            ],
            [
             0.9,
             "#4d9221"
            ],
            [
             1,
             "#276419"
            ]
           ],
           "sequential": [
            [
             0,
             "#0d0887"
            ],
            [
             0.1111111111111111,
             "#46039f"
            ],
            [
             0.2222222222222222,
             "#7201a8"
            ],
            [
             0.3333333333333333,
             "#9c179e"
            ],
            [
             0.4444444444444444,
             "#bd3786"
            ],
            [
             0.5555555555555556,
             "#d8576b"
            ],
            [
             0.6666666666666666,
             "#ed7953"
            ],
            [
             0.7777777777777778,
             "#fb9f3a"
            ],
            [
             0.8888888888888888,
             "#fdca26"
            ],
            [
             1,
             "#f0f921"
            ]
           ],
           "sequentialminus": [
            [
             0,
             "#0d0887"
            ],
            [
             0.1111111111111111,
             "#46039f"
            ],
            [
             0.2222222222222222,
             "#7201a8"
            ],
            [
             0.3333333333333333,
             "#9c179e"
            ],
            [
             0.4444444444444444,
             "#bd3786"
            ],
            [
             0.5555555555555556,
             "#d8576b"
            ],
            [
             0.6666666666666666,
             "#ed7953"
            ],
            [
             0.7777777777777778,
             "#fb9f3a"
            ],
            [
             0.8888888888888888,
             "#fdca26"
            ],
            [
             1,
             "#f0f921"
            ]
           ]
          },
          "colorway": [
           "#636efa",
           "#EF553B",
           "#00cc96",
           "#ab63fa",
           "#FFA15A",
           "#19d3f3",
           "#FF6692",
           "#B6E880",
           "#FF97FF",
           "#FECB52"
          ],
          "font": {
           "color": "#2a3f5f"
          },
          "geo": {
           "bgcolor": "white",
           "lakecolor": "white",
           "landcolor": "#E5ECF6",
           "showlakes": true,
           "showland": true,
           "subunitcolor": "white"
          },
          "hoverlabel": {
           "align": "left"
          },
          "hovermode": "closest",
          "mapbox": {
           "style": "light"
          },
          "paper_bgcolor": "white",
          "plot_bgcolor": "#E5ECF6",
          "polar": {
           "angularaxis": {
            "gridcolor": "white",
            "linecolor": "white",
            "ticks": ""
           },
           "bgcolor": "#E5ECF6",
           "radialaxis": {
            "gridcolor": "white",
            "linecolor": "white",
            "ticks": ""
           }
          },
          "scene": {
           "xaxis": {
            "backgroundcolor": "#E5ECF6",
            "gridcolor": "white",
            "gridwidth": 2,
            "linecolor": "white",
            "showbackground": true,
            "ticks": "",
            "zerolinecolor": "white"
           },
           "yaxis": {
            "backgroundcolor": "#E5ECF6",
            "gridcolor": "white",
            "gridwidth": 2,
            "linecolor": "white",
            "showbackground": true,
            "ticks": "",
            "zerolinecolor": "white"
           },
           "zaxis": {
            "backgroundcolor": "#E5ECF6",
            "gridcolor": "white",
            "gridwidth": 2,
            "linecolor": "white",
            "showbackground": true,
            "ticks": "",
            "zerolinecolor": "white"
           }
          },
          "shapedefaults": {
           "line": {
            "color": "#2a3f5f"
           }
          },
          "ternary": {
           "aaxis": {
            "gridcolor": "white",
            "linecolor": "white",
            "ticks": ""
           },
           "baxis": {
            "gridcolor": "white",
            "linecolor": "white",
            "ticks": ""
           },
           "bgcolor": "#E5ECF6",
           "caxis": {
            "gridcolor": "white",
            "linecolor": "white",
            "ticks": ""
           }
          },
          "title": {
           "x": 0.05
          },
          "xaxis": {
           "automargin": true,
           "gridcolor": "white",
           "linecolor": "white",
           "ticks": "",
           "title": {
            "standoff": 15
           },
           "zerolinecolor": "white",
           "zerolinewidth": 2
          },
          "yaxis": {
           "automargin": true,
           "gridcolor": "white",
           "linecolor": "white",
           "ticks": "",
           "title": {
            "standoff": 15
           },
           "zerolinecolor": "white",
           "zerolinewidth": 2
          }
         }
        },
        "xaxis": {
         "autorange": true,
         "range": [
          -0.5,
          10.5
         ],
         "title": {
          "text": "Sector"
         },
         "type": "category"
        },
        "yaxis": {
         "autorange": true,
         "range": [
          0,
          85.78947368421052
         ],
         "title": {
          "text": "% Companies Remaining"
         },
         "type": "linear"
        }
       }
      },
      "image/png": "[encoded data removed]",
      "text/html": [
       "<div>                            <div id=\"12809d02-10f5-4636-9fb3-74c9d53fb0fb\" class=\"plotly-graph-div\" style=\"height:525px; width:100%;\"></div>            <script type=\"text/javascript\">                require([\"plotly\"], function(Plotly) {                    window.PLOTLYENV=window.PLOTLYENV || {};                                    if (document.getElementById(\"12809d02-10f5-4636-9fb3-74c9d53fb0fb\")) {                    Plotly.newPlot(                        \"12809d02-10f5-4636-9fb3-74c9d53fb0fb\",                        [{\"name\":\"Remaining %\",\"text\":[81.5,80.3,75.7,73.3,73.0,60.4,59.2,58.6,56.5,53.3,47.8],\"x\":[\"Health Care\",\"Information Technology\",\"Industrials\",\"Utilities\",\"Consumer Staples\",\"Consumer Discretionary\",\"Financials\",\"Materials\",\"Communication Services\",\"Real Estate\",\"Energy\"],\"y\":[81.5,80.3,75.7,73.3,73.0,60.4,59.2,58.6,56.5,53.3,47.8],\"type\":\"bar\"}],                        {\"template\":{\"data\":{\"histogram2dcontour\":[{\"type\":\"histogram2dcontour\",\"colorbar\":{\"outlinewidth\":0,\"ticks\":\"\"},\"colorscale\":[[0.0,\"#0d0887\"],[0.1111111111111111,\"#46039f\"],[0.2222222222222222,\"#7201a8\"],[0.3333333333333333,\"#9c179e\"],[0.4444444444444444,\"#bd3786\"],[0.5555555555555556,\"#d8576b\"],[0.6666666666666666,\"#ed7953\"],[0.7777777777777778,\"#fb9f3a\"],[0.8888888888888888,\"#fdca26\"],[1.0,\"#f0f921\"]]}],\"choropleth\":[{\"type\":\"choropleth\",\"colorbar\":{\"outlinewidth\":0,\"ticks\":\"\"}}],\"histogram2d\":[{\"type\":\"histogram2d\",\"colorbar\":{\"outlinewidth\":0,\"ticks\":\"\"},\"colorscale\":[[0.0,\"#0d0887\"],[0.1111111111111111,\"#46039f\"],[0.2222222222222222,\"#7201a8\"],[0.3333333333333333,\"#9c179e\"],[0.4444444444444444,\"#bd3786\"],[0.5555555555555556,\"#d8576b\"],[0.6666666666666666,\"#ed7953\"],[0.7777777777777778,\"#fb9f3a\"],[0.8888888888888888,\"#fdca26\"],[1.0,\"#f0f921\"]]}],\"heatmap\":[{\"type\":\"heatmap\",\"colorbar\":{\"outlinewidth\":0,\"ticks\":\"\"},\"colorscale\":[[0.0,\"#0d0887\"],[0.1111111111111111,\"#46039f\"],[0.2222222222222222,\"#7201a8\"],[0.3333333333333333,\"#9c179e\"],[0.4444444444444444,\"#bd3786\"],[0.5555555555555556,\"#d8576b\"],[0.6666666666666666,\"#ed7953\"],[0.7777777777777778,\"#fb9f3a\"],[0.8888888888888888,\"#fdca26\"],[1.0,\"#f0f921\"]]}],\"heatmapgl\":[{\"type\":\"heatmapgl\",\"colorbar\":{\"outlinewidth\":0,\"ticks\":\"\"},\"colorscale\":[[0.0,\"#0d0887\"],[0.1111111111111111,\"#46039f\"],[0.2222222222222222,\"#7201a8\"],[0.3333333333333333,\"#9c179e\"],[0.4444444444444444,\"#bd3786\"],[0.5555555555555556,\"#d8576b\"],[0.6666666666666666,\"#ed7953\"],[0.7777777777777778,\"#fb9f3a\"],[0.8888888888888888,\"#fdca26\"],[1.0,\"#f0f921\"]]}],\"contourcarpet\":[{\"type\":\"contourcarpet\",\"colorbar\":{\"outlinewidth\":0,\"ticks\":\"\"}}],\"contour\":[{\"type\":\"contour\",\"colorbar\":{\"outlinewidth\":0,\"ticks\":\"\"},\"colorscale\":[[0.0,\"#0d0887\"],[0.1111111111111111,\"#46039f\"],[0.2222222222222222,\"#7201a8\"],[0.3333333333333333,\"#9c179e\"],[0.4444444444444444,\"#bd3786\"],[0.5555555555555556,\"#d8576b\"],[0.6666666666666666,\"#ed7953\"],[0.7777777777777778,\"#fb9f3a\"],[0.8888888888888888,\"#fdca26\"],[1.0,\"#f0f921\"]]}],\"surface\":[{\"type\":\"surface\",\"colorbar\":{\"outlinewidth\":0,\"ticks\":\"\"},\"colorscale\":[[0.0,\"#0d0887\"],[0.1111111111111111,\"#46039f\"],[0.2222222222222222,\"#7201a8\"],[0.3333333333333333,\"#9c179e\"],[0.4444444444444444,\"#bd3786\"],[0.5555555555555556,\"#d8576b\"],[0.6666666666666666,\"#ed7953\"],[0.7777777777777778,\"#fb9f3a\"],[0.8888888888888888,\"#fdca26\"],[1.0,\"#f0f921\"]]}],\"mesh3d\":[{\"type\":\"mesh3d\",\"colorbar\":{\"outlinewidth\":0,\"ticks\":\"\"}}],\"scatter\":[{\"fillpattern\":{\"fillmode\":\"overlay\",\"size\":10,\"solidity\":0.2},\"type\":\"scatter\"}],\"parcoords\":[{\"type\":\"parcoords\",\"line\":{\"colorbar\":{\"outlinewidth\":0,\"ticks\":\"\"}}}],\"scatterpolargl\":[{\"type\":\"scatterpolargl\",\"marker\":{\"colorbar\":{\"outlinewidth\":0,\"ticks\":\"\"}}}],\"bar\":[{\"error_x\":{\"color\":\"#2a3f5f\"},\"error_y\":{\"color\":\"#2a3f5f\"},\"marker\":{\"line\":{\"color\":\"#E5ECF6\",\"width\":0.5},\"pattern\":{\"fillmode\":\"overlay\",\"size\":10,\"solidity\":0.2}},\"type\":\"bar\"}],\"scattergeo\":[{\"type\":\"scattergeo\",\"marker\":{\"colorbar\":{\"outlinewidth\":0,\"ticks\":\"\"}}}],\"scatterpolar\":[{\"type\":\"scatterpolar\",\"marker\":{\"colorbar\":{\"outlinewidth\":0,\"ticks\":\"\"}}}],\"histogram\":[{\"marker\":{\"pattern\":{\"fillmode\":\"overlay\",\"size\":10,\"solidity\":0.2}},\"type\":\"histogram\"}],\"scattergl\":[{\"type\":\"scattergl\",\"marker\":{\"colorbar\":{\"outlinewidth\":0,\"ticks\":\"\"}}}],\"scatter3d\":[{\"type\":\"scatter3d\",\"line\":{\"colorbar\":{\"outlinewidth\":0,\"ticks\":\"\"}},\"marker\":{\"colorbar\":{\"outlinewidth\":0,\"ticks\":\"\"}}}],\"scattermapbox\":[{\"type\":\"scattermapbox\",\"marker\":{\"colorbar\":{\"outlinewidth\":0,\"ticks\":\"\"}}}],\"scatterternary\":[{\"type\":\"scatterternary\",\"marker\":{\"colorbar\":{\"outlinewidth\":0,\"ticks\":\"\"}}}],\"scattercarpet\":[{\"type\":\"scattercarpet\",\"marker\":{\"colorbar\":{\"outlinewidth\":0,\"ticks\":\"\"}}}],\"carpet\":[{\"aaxis\":{\"endlinecolor\":\"#2a3f5f\",\"gridcolor\":\"white\",\"linecolor\":\"white\",\"minorgridcolor\":\"white\",\"startlinecolor\":\"#2a3f5f\"},\"baxis\":{\"endlinecolor\":\"#2a3f5f\",\"gridcolor\":\"white\",\"linecolor\":\"white\",\"minorgridcolor\":\"white\",\"startlinecolor\":\"#2a3f5f\"},\"type\":\"carpet\"}],\"table\":[{\"cells\":{\"fill\":{\"color\":\"#EBF0F8\"},\"line\":{\"color\":\"white\"}},\"header\":{\"fill\":{\"color\":\"#C8D4E3\"},\"line\":{\"color\":\"white\"}},\"type\":\"table\"}],\"barpolar\":[{\"marker\":{\"line\":{\"color\":\"#E5ECF6\",\"width\":0.5},\"pattern\":{\"fillmode\":\"overlay\",\"size\":10,\"solidity\":0.2}},\"type\":\"barpolar\"}],\"pie\":[{\"automargin\":true,\"type\":\"pie\"}]},\"layout\":{\"autotypenumbers\":\"strict\",\"colorway\":[\"#636efa\",\"#EF553B\",\"#00cc96\",\"#ab63fa\",\"#FFA15A\",\"#19d3f3\",\"#FF6692\",\"#B6E880\",\"#FF97FF\",\"#FECB52\"],\"font\":{\"color\":\"#2a3f5f\"},\"hovermode\":\"closest\",\"hoverlabel\":{\"align\":\"left\"},\"paper_bgcolor\":\"white\",\"plot_bgcolor\":\"#E5ECF6\",\"polar\":{\"bgcolor\":\"#E5ECF6\",\"angularaxis\":{\"gridcolor\":\"white\",\"linecolor\":\"white\",\"ticks\":\"\"},\"radialaxis\":{\"gridcolor\":\"white\",\"linecolor\":\"white\",\"ticks\":\"\"}},\"ternary\":{\"bgcolor\":\"#E5ECF6\",\"aaxis\":{\"gridcolor\":\"white\",\"linecolor\":\"white\",\"ticks\":\"\"},\"baxis\":{\"gridcolor\":\"white\",\"linecolor\":\"white\",\"ticks\":\"\"},\"caxis\":{\"gridcolor\":\"white\",\"linecolor\":\"white\",\"ticks\":\"\"}},\"coloraxis\":{\"colorbar\":{\"outlinewidth\":0,\"ticks\":\"\"}},\"colorscale\":{\"sequential\":[[0.0,\"#0d0887\"],[0.1111111111111111,\"#46039f\"],[0.2222222222222222,\"#7201a8\"],[0.3333333333333333,\"#9c179e\"],[0.4444444444444444,\"#bd3786\"],[0.5555555555555556,\"#d8576b\"],[0.6666666666666666,\"#ed7953\"],[0.7777777777777778,\"#fb9f3a\"],[0.8888888888888888,\"#fdca26\"],[1.0,\"#f0f921\"]],\"sequentialminus\":[[0.0,\"#0d0887\"],[0.1111111111111111,\"#46039f\"],[0.2222222222222222,\"#7201a8\"],[0.3333333333333333,\"#9c179e\"],[0.4444444444444444,\"#bd3786\"],[0.5555555555555556,\"#d8576b\"],[0.6666666666666666,\"#ed7953\"],[0.7777777777777778,\"#fb9f3a\"],[0.8888888888888888,\"#fdca26\"],[1.0,\"#f0f921\"]],\"diverging\":[[0,\"#8e0152\"],[0.1,\"#c51b7d\"],[0.2,\"#de77ae\"],[0.3,\"#f1b6da\"],[0.4,\"#fde0ef\"],[0.5,\"#f7f7f7\"],[0.6,\"#e6f5d0\"],[0.7,\"#b8e186\"],[0.8,\"#7fbc41\"],[0.9,\"#4d9221\"],[1,\"#276419\"]]},\"xaxis\":{\"gridcolor\":\"white\",\"linecolor\":\"white\",\"ticks\":\"\",\"title\":{\"standoff\":15},\"zerolinecolor\":\"white\",\"automargin\":true,\"zerolinewidth\":2},\"yaxis\":{\"gridcolor\":\"white\",\"linecolor\":\"white\",\"ticks\":\"\",\"title\":{\"standoff\":15},\"zerolinecolor\":\"white\",\"automargin\":true,\"zerolinewidth\":2},\"scene\":{\"xaxis\":{\"backgroundcolor\":\"#E5ECF6\",\"gridcolor\":\"white\",\"linecolor\":\"white\",\"showbackground\":true,\"ticks\":\"\",\"zerolinecolor\":\"white\",\"gridwidth\":2},\"yaxis\":{\"backgroundcolor\":\"#E5ECF6\",\"gridcolor\":\"white\",\"linecolor\":\"white\",\"showbackground\":true,\"ticks\":\"\",\"zerolinecolor\":\"white\",\"gridwidth\":2},\"zaxis\":{\"backgroundcolor\":\"#E5ECF6\",\"gridcolor\":\"white\",\"linecolor\":\"white\",\"showbackground\":true,\"ticks\":\"\",\"zerolinecolor\":\"white\",\"gridwidth\":2}},\"shapedefaults\":{\"line\":{\"color\":\"#2a3f5f\"}},\"annotationdefaults\":{\"arrowcolor\":\"#2a3f5f\",\"arrowhead\":0,\"arrowwidth\":1},\"geo\":{\"bgcolor\":\"white\",\"landcolor\":\"#E5ECF6\",\"subunitcolor\":\"white\",\"showland\":true,\"showlakes\":true,\"lakecolor\":\"white\"},\"title\":{\"x\":0.05},\"mapbox\":{\"style\":\"light\"}}},\"legend\":{\"title\":{\"text\":\"High Performers\"}},\"xaxis\":{\"title\":{\"text\":\"Sector\"}},\"yaxis\":{\"title\":{\"text\":\"% Companies Remaining\"}}},                        {\"responsive\": true}                    ).then(function(){\n",
       "                            \n",
       "var gd = document.getElementById('12809d02-10f5-4636-9fb3-74c9d53fb0fb');\n",
       "var x = new MutationObserver(function (mutations, observer) {{\n",
       "        var display = window.getComputedStyle(gd).display;\n",
       "        if (!display || display === 'none') {{\n",
       "            console.log([gd, 'removed!']);\n",
       "            Plotly.purge(gd);\n",
       "            observer.disconnect();\n",
       "        }}\n",
       "}});\n",
       "\n",
       "// Listen for the removal of the full notebook cells\n",
       "var notebookContainer = gd.closest('#notebook-container');\n",
       "if (notebookContainer) {{\n",
       "    x.observe(notebookContainer, {childList: true});\n",
       "}}\n",
       "\n",
       "// Listen for the clearing of the current output cell\n",
       "var outputEl = gd.closest('.output');\n",
       "if (outputEl) {{\n",
       "    x.observe(outputEl, {childList: true});\n",
       "}}\n",
       "\n",
       "                        })                };                });            </script>        </div>"
      ]
     },
     "metadata": {},
     "output_type": "display_data"
    }
   ],
   "source": [
    "fig = go.Figure(data=[\n",
    "    #go.Bar(name='SP500', x=a.index, y=a['sector']),\n",
    "    #go.Bar(name='SP500 Filtered', x=a.index, y=a['Remaining Count']),\n",
    "    go.Bar(name='Remaining %', x=a.index, y=a['Remaining %'], text=a['Remaining %'])\n",
    "])\n",
    "# Change the bar mode\n",
    "#fig.update_layout(barmode='group')\n",
    "fig.update_layout(legend_title_text = \"High Performers\")\n",
    "fig.update_xaxes(title_text=\"Sector\")\n",
    "fig.update_yaxes(title_text=\"% Companies Remaining\")\n",
    "fig.show()"
   ]
  },
  {
   "cell_type": "markdown",
   "id": "0d053452-ce85-4ca2-b6fe-54aeaf04f65d",
   "metadata": {
    "tags": []
   },
   "source": [
    "Observing pattern above, which aligns with intuition and practicality, we further analyze the companies within the real estate sector to detect more precise behavior:"
   ]
  },
  {
   "cell_type": "code",
   "execution_count": 49,
   "id": "7663e6ae-008e-41f3-b6da-c35ad3bbc52a",
   "metadata": {},
   "outputs": [],
   "source": [
    "j = pd.DataFrame(df.columns)\n",
    "j.rename(columns = {0:'ticker'}, inplace = True)\n",
    "industry_dist = pd.merge(j, sector, how=\"left\", left_on=\"ticker\", right_on=\"symbol\")\n",
    "del j #deleting temp dataframes\n",
    "industry_dist.drop(\"symbol\", axis=1, inplace=True)\n",
    "industry_dist = industry_dist.loc[industry_dist['sector']=='Real Estate']\n",
    "c = pd.DataFrame(industry_dist['sub-industry'].value_counts())"
   ]
  },
  {
   "cell_type": "code",
   "execution_count": 50,
   "id": "fb178a8f-9e7b-45b0-aadb-127fa352441d",
   "metadata": {},
   "outputs": [],
   "source": [
    "j = pd.DataFrame(df_filtered.columns)\n",
    "j.rename(columns = {0:'ticker'}, inplace = True)\n",
    "filt_sector_dist = pd.merge(j, sector, how=\"left\", left_on=\"ticker\", right_on=\"symbol\")\n",
    "del j #deleting temp dataframe\n",
    "filt_sector_dist.drop(\"symbol\", axis=1, inplace=True)\n",
    "filt_sector_dist = filt_sector_dist.loc[filt_sector_dist['sector'] == 'Real Estate']\n",
    "d = filt_sector_dist['sub-industry'].value_counts()"
   ]
  },
  {
   "cell_type": "code",
   "execution_count": 51,
   "id": "c88dbd42-4fc4-4577-bddd-d76bac446dd1",
   "metadata": {},
   "outputs": [],
   "source": [
    "c['Remaining Count'] = d\n",
    "c['Remaining Count'] = c['Remaining Count'].fillna(0)\n",
    "c[\"Remaining %\"] = 100*c[\"Remaining Count\"]/c[\"sub-industry\"]\n",
    "c.sort_values('Remaining %', ascending=False, inplace=True)\n",
    "c = c.round(1)"
   ]
  },
  {
   "cell_type": "code",
   "execution_count": 52,
   "id": "82b07d6e-859a-460a-8905-01c8e26bd6df",
   "metadata": {},
   "outputs": [
    {
     "data": {
      "application/vnd.plotly.v1+json": {
       "config": {
        "plotlyServerURL": "https://plot.ly"
       },
       "data": [
        {
         "name": "Remaining %",
         "text": [
          100,
          100,
          100,
          100,
          66.7,
          57.1,
          50,
          50,
          40,
          33.3,
          0,
          0
         ],
         "type": "bar",
         "x": [
          "Self-Storage REITs",
          "Real Estate Services",
          "Other Specialized REITs",
          "Industrial REITs",
          "Telecom Tower REITs",
          "Residential REITs",
          "Data Center REITs",
          "Hotel & Resort REITs",
          "Retail REITs",
          "Health Care REITs",
          "Office REITs",
          "Timber REITs"
         ],
         "y": [
          100,
          100,
          100,
          100,
          66.7,
          57.1,
          50,
          50,
          40,
          33.3,
          0,
          0
         ]
        }
       ],
       "layout": {
        "autosize": true,
        "legend": {
         "title": {
          "text": "High Performers"
         }
        },
        "template": {
         "data": {
          "bar": [
           {
            "error_x": {
             "color": "#2a3f5f"
            },
            "error_y": {
             "color": "#2a3f5f"
            },
            "marker": {
             "line": {
              "color": "#E5ECF6",
              "width": 0.5
             },
             "pattern": {
              "fillmode": "overlay",
              "size": 10,
              "solidity": 0.2
             }
            },
            "type": "bar"
           }
          ],
          "barpolar": [
           {
            "marker": {
             "line": {
              "color": "#E5ECF6",
              "width": 0.5
             },
             "pattern": {
              "fillmode": "overlay",
              "size": 10,
              "solidity": 0.2
             }
            },
            "type": "barpolar"
           }
          ],
          "carpet": [
           {
            "aaxis": {
             "endlinecolor": "#2a3f5f",
             "gridcolor": "white",
             "linecolor": "white",
             "minorgridcolor": "white",
             "startlinecolor": "#2a3f5f"
            },
            "baxis": {
             "endlinecolor": "#2a3f5f",
             "gridcolor": "white",
             "linecolor": "white",
             "minorgridcolor": "white",
             "startlinecolor": "#2a3f5f"
            },
            "type": "carpet"
           }
          ],
          "choropleth": [
           {
            "colorbar": {
             "outlinewidth": 0,
             "ticks": ""
            },
            "type": "choropleth"
           }
          ],
          "contour": [
           {
            "colorbar": {
             "outlinewidth": 0,
             "ticks": ""
            },
            "colorscale": [
             [
              0,
              "#0d0887"
             ],
             [
              0.1111111111111111,
              "#46039f"
             ],
             [
              0.2222222222222222,
              "#7201a8"
             ],
             [
              0.3333333333333333,
              "#9c179e"
             ],
             [
              0.4444444444444444,
              "#bd3786"
             ],
             [
              0.5555555555555556,
              "#d8576b"
             ],
             [
              0.6666666666666666,
              "#ed7953"
             ],
             [
              0.7777777777777778,
              "#fb9f3a"
             ],
             [
              0.8888888888888888,
              "#fdca26"
             ],
             [
              1,
              "#f0f921"
             ]
            ],
            "type": "contour"
           }
          ],
          "contourcarpet": [
           {
            "colorbar": {
             "outlinewidth": 0,
             "ticks": ""
            },
            "type": "contourcarpet"
           }
          ],
          "heatmap": [
           {
            "colorbar": {
             "outlinewidth": 0,
             "ticks": ""
            },
            "colorscale": [
             [
              0,
              "#0d0887"
             ],
             [
              0.1111111111111111,
              "#46039f"
             ],
             [
              0.2222222222222222,
              "#7201a8"
             ],
             [
              0.3333333333333333,
              "#9c179e"
             ],
             [
              0.4444444444444444,
              "#bd3786"
             ],
             [
              0.5555555555555556,
              "#d8576b"
             ],
             [
              0.6666666666666666,
              "#ed7953"
             ],
             [
              0.7777777777777778,
              "#fb9f3a"
             ],
             [
              0.8888888888888888,
              "#fdca26"
             ],
             [
              1,
              "#f0f921"
             ]
            ],
            "type": "heatmap"
           }
          ],
          "heatmapgl": [
           {
            "colorbar": {
             "outlinewidth": 0,
             "ticks": ""
            },
            "colorscale": [
             [
              0,
              "#0d0887"
             ],
             [
              0.1111111111111111,
              "#46039f"
             ],
             [
              0.2222222222222222,
              "#7201a8"
             ],
             [
              0.3333333333333333,
              "#9c179e"
             ],
             [
              0.4444444444444444,
              "#bd3786"
             ],
             [
              0.5555555555555556,
              "#d8576b"
             ],
             [
              0.6666666666666666,
              "#ed7953"
             ],
             [
              0.7777777777777778,
              "#fb9f3a"
             ],
             [
              0.8888888888888888,
              "#fdca26"
             ],
             [
              1,
              "#f0f921"
             ]
            ],
            "type": "heatmapgl"
           }
          ],
          "histogram": [
           {
            "marker": {
             "pattern": {
              "fillmode": "overlay",
              "size": 10,
              "solidity": 0.2
             }
            },
            "type": "histogram"
           }
          ],
          "histogram2d": [
           {
            "colorbar": {
             "outlinewidth": 0,
             "ticks": ""
            },
            "colorscale": [
             [
              0,
              "#0d0887"
             ],
             [
              0.1111111111111111,
              "#46039f"
             ],
             [
              0.2222222222222222,
              "#7201a8"
             ],
             [
              0.3333333333333333,
              "#9c179e"
             ],
             [
              0.4444444444444444,
              "#bd3786"
             ],
             [
              0.5555555555555556,
              "#d8576b"
             ],
             [
              0.6666666666666666,
              "#ed7953"
             ],
             [
              0.7777777777777778,
              "#fb9f3a"
             ],
             [
              0.8888888888888888,
              "#fdca26"
             ],
             [
              1,
              "#f0f921"
             ]
            ],
            "type": "histogram2d"
           }
          ],
          "histogram2dcontour": [
           {
            "colorbar": {
             "outlinewidth": 0,
             "ticks": ""
            },
            "colorscale": [
             [
              0,
              "#0d0887"
             ],
             [
              0.1111111111111111,
              "#46039f"
             ],
             [
              0.2222222222222222,
              "#7201a8"
             ],
             [
              0.3333333333333333,
              "#9c179e"
             ],
             [
              0.4444444444444444,
              "#bd3786"
             ],
             [
              0.5555555555555556,
              "#d8576b"
             ],
             [
              0.6666666666666666,
              "#ed7953"
             ],
             [
              0.7777777777777778,
              "#fb9f3a"
             ],
             [
              0.8888888888888888,
              "#fdca26"
             ],
             [
              1,
              "#f0f921"
             ]
            ],
            "type": "histogram2dcontour"
           }
          ],
          "mesh3d": [
           {
            "colorbar": {
             "outlinewidth": 0,
             "ticks": ""
            },
            "type": "mesh3d"
           }
          ],
          "parcoords": [
           {
            "line": {
             "colorbar": {
              "outlinewidth": 0,
              "ticks": ""
             }
            },
            "type": "parcoords"
           }
          ],
          "pie": [
           {
            "automargin": true,
            "type": "pie"
           }
          ],
          "scatter": [
           {
            "fillpattern": {
             "fillmode": "overlay",
             "size": 10,
             "solidity": 0.2
            },
            "type": "scatter"
           }
          ],
          "scatter3d": [
           {
            "line": {
             "colorbar": {
              "outlinewidth": 0,
              "ticks": ""
             }
            },
            "marker": {
             "colorbar": {
              "outlinewidth": 0,
              "ticks": ""
             }
            },
            "type": "scatter3d"
           }
          ],
          "scattercarpet": [
           {
            "marker": {
             "colorbar": {
              "outlinewidth": 0,
              "ticks": ""
             }
            },
            "type": "scattercarpet"
           }
          ],
          "scattergeo": [
           {
            "marker": {
             "colorbar": {
              "outlinewidth": 0,
              "ticks": ""
             }
            },
            "type": "scattergeo"
           }
          ],
          "scattergl": [
           {
            "marker": {
             "colorbar": {
              "outlinewidth": 0,
              "ticks": ""
             }
            },
            "type": "scattergl"
           }
          ],
          "scattermapbox": [
           {
            "marker": {
             "colorbar": {
              "outlinewidth": 0,
              "ticks": ""
             }
            },
            "type": "scattermapbox"
           }
          ],
          "scatterpolar": [
           {
            "marker": {
             "colorbar": {
              "outlinewidth": 0,
              "ticks": ""
             }
            },
            "type": "scatterpolar"
           }
          ],
          "scatterpolargl": [
           {
            "marker": {
             "colorbar": {
              "outlinewidth": 0,
              "ticks": ""
             }
            },
            "type": "scatterpolargl"
           }
          ],
          "scatterternary": [
           {
            "marker": {
             "colorbar": {
              "outlinewidth": 0,
              "ticks": ""
             }
            },
            "type": "scatterternary"
           }
          ],
          "surface": [
           {
            "colorbar": {
             "outlinewidth": 0,
             "ticks": ""
            },
            "colorscale": [
             [
              0,
              "#0d0887"
             ],
             [
              0.1111111111111111,
              "#46039f"
             ],
             [
              0.2222222222222222,
              "#7201a8"
             ],
             [
              0.3333333333333333,
              "#9c179e"
             ],
             [
              0.4444444444444444,
              "#bd3786"
             ],
             [
              0.5555555555555556,
              "#d8576b"
             ],
             [
              0.6666666666666666,
              "#ed7953"
             ],
             [
              0.7777777777777778,
              "#fb9f3a"
             ],
             [
              0.8888888888888888,
              "#fdca26"
             ],
             [
              1,
              "#f0f921"
             ]
            ],
            "type": "surface"
           }
          ],
          "table": [
           {
            "cells": {
             "fill": {
              "color": "#EBF0F8"
             },
             "line": {
              "color": "white"
             }
            },
            "header": {
             "fill": {
              "color": "#C8D4E3"
             },
             "line": {
              "color": "white"
             }
            },
            "type": "table"
           }
          ]
         },
         "layout": {
          "annotationdefaults": {
           "arrowcolor": "#2a3f5f",
           "arrowhead": 0,
           "arrowwidth": 1
          },
          "autotypenumbers": "strict",
          "coloraxis": {
           "colorbar": {
            "outlinewidth": 0,
            "ticks": ""
           }
          },
          "colorscale": {
           "diverging": [
            [
             0,
             "#8e0152"
            ],
            [
             0.1,
             "#c51b7d"
            ],
            [
             0.2,
             "#de77ae"
            ],
            [
             0.3,
             "#f1b6da"
            ],
            [
             0.4,
             "#fde0ef"
            ],
            [
             0.5,
             "#f7f7f7"
            ],
            [
             0.6,
             "#e6f5d0"
            ],
            [
             0.7,
             "#b8e186"
            ],
            [
             0.8,
             "#7fbc41"
            ],
            [
             0.9,
             "#4d9221"
            ],
            [
             1,
             "#276419"
            ]
           ],
           "sequential": [
            [
             0,
             "#0d0887"
            ],
            [
             0.1111111111111111,
             "#46039f"
            ],
            [
             0.2222222222222222,
             "#7201a8"
            ],
            [
             0.3333333333333333,
             "#9c179e"
            ],
            [
             0.4444444444444444,
             "#bd3786"
            ],
            [
             0.5555555555555556,
             "#d8576b"
            ],
            [
             0.6666666666666666,
             "#ed7953"
            ],
            [
             0.7777777777777778,
             "#fb9f3a"
            ],
            [
             0.8888888888888888,
             "#fdca26"
            ],
            [
             1,
             "#f0f921"
            ]
           ],
           "sequentialminus": [
            [
             0,
             "#0d0887"
            ],
            [
             0.1111111111111111,
             "#46039f"
            ],
            [
             0.2222222222222222,
             "#7201a8"
            ],
            [
             0.3333333333333333,
             "#9c179e"
            ],
            [
             0.4444444444444444,
             "#bd3786"
            ],
            [
             0.5555555555555556,
             "#d8576b"
            ],
            [
             0.6666666666666666,
             "#ed7953"
            ],
            [
             0.7777777777777778,
             "#fb9f3a"
            ],
            [
             0.8888888888888888,
             "#fdca26"
            ],
            [
             1,
             "#f0f921"
            ]
           ]
          },
          "colorway": [
           "#636efa",
           "#EF553B",
           "#00cc96",
           "#ab63fa",
           "#FFA15A",
           "#19d3f3",
           "#FF6692",
           "#B6E880",
           "#FF97FF",
           "#FECB52"
          ],
          "font": {
           "color": "#2a3f5f"
          },
          "geo": {
           "bgcolor": "white",
           "lakecolor": "white",
           "landcolor": "#E5ECF6",
           "showlakes": true,
           "showland": true,
           "subunitcolor": "white"
          },
          "hoverlabel": {
           "align": "left"
          },
          "hovermode": "closest",
          "mapbox": {
           "style": "light"
          },
          "paper_bgcolor": "white",
          "plot_bgcolor": "#E5ECF6",
          "polar": {
           "angularaxis": {
            "gridcolor": "white",
            "linecolor": "white",
            "ticks": ""
           },
           "bgcolor": "#E5ECF6",
           "radialaxis": {
            "gridcolor": "white",
            "linecolor": "white",
            "ticks": ""
           }
          },
          "scene": {
           "xaxis": {
            "backgroundcolor": "#E5ECF6",
            "gridcolor": "white",
            "gridwidth": 2,
            "linecolor": "white",
            "showbackground": true,
            "ticks": "",
            "zerolinecolor": "white"
           },
           "yaxis": {
            "backgroundcolor": "#E5ECF6",
            "gridcolor": "white",
            "gridwidth": 2,
            "linecolor": "white",
            "showbackground": true,
            "ticks": "",
            "zerolinecolor": "white"
           },
           "zaxis": {
            "backgroundcolor": "#E5ECF6",
            "gridcolor": "white",
            "gridwidth": 2,
            "linecolor": "white",
            "showbackground": true,
            "ticks": "",
            "zerolinecolor": "white"
           }
          },
          "shapedefaults": {
           "line": {
            "color": "#2a3f5f"
           }
          },
          "ternary": {
           "aaxis": {
            "gridcolor": "white",
            "linecolor": "white",
            "ticks": ""
           },
           "baxis": {
            "gridcolor": "white",
            "linecolor": "white",
            "ticks": ""
           },
           "bgcolor": "#E5ECF6",
           "caxis": {
            "gridcolor": "white",
            "linecolor": "white",
            "ticks": ""
           }
          },
          "title": {
           "x": 0.05
          },
          "xaxis": {
           "automargin": true,
           "gridcolor": "white",
           "linecolor": "white",
           "ticks": "",
           "title": {
            "standoff": 15
           },
           "zerolinecolor": "white",
           "zerolinewidth": 2
          },
          "yaxis": {
           "automargin": true,
           "gridcolor": "white",
           "linecolor": "white",
           "ticks": "",
           "title": {
            "standoff": 15
           },
           "zerolinecolor": "white",
           "zerolinewidth": 2
          }
         }
        },
        "xaxis": {
         "autorange": true,
         "range": [
          -0.5,
          11.5
         ],
         "title": {
          "text": "Sub-Industries in Real Estate Sector"
         },
         "type": "category"
        },
        "yaxis": {
         "autorange": true,
         "range": [
          0,
          105.26315789473685
         ],
         "title": {
          "text": "% Companies Remaining"
         },
         "type": "linear"
        }
       }
      },
      "image/png": "[encoded data removed]",
      "text/html": [
       "<div>                            <div id=\"67237c72-2ceb-4364-8b04-c42a1bc2d0f3\" class=\"plotly-graph-div\" style=\"height:525px; width:100%;\"></div>            <script type=\"text/javascript\">                require([\"plotly\"], function(Plotly) {                    window.PLOTLYENV=window.PLOTLYENV || {};                                    if (document.getElementById(\"67237c72-2ceb-4364-8b04-c42a1bc2d0f3\")) {                    Plotly.newPlot(                        \"67237c72-2ceb-4364-8b04-c42a1bc2d0f3\",                        [{\"name\":\"Remaining %\",\"text\":[100.0,100.0,100.0,100.0,66.7,57.1,50.0,50.0,40.0,33.3,0.0,0.0],\"x\":[\"Self-Storage REITs\",\"Real Estate Services\",\"Other Specialized REITs\",\"Industrial REITs\",\"Telecom Tower REITs\",\"Residential REITs\",\"Data Center REITs\",\"Hotel & Resort REITs\",\"Retail REITs\",\"Health Care REITs\",\"Office REITs\",\"Timber REITs\"],\"y\":[100.0,100.0,100.0,100.0,66.7,57.1,50.0,50.0,40.0,33.3,0.0,0.0],\"type\":\"bar\"}],                        {\"template\":{\"data\":{\"histogram2dcontour\":[{\"type\":\"histogram2dcontour\",\"colorbar\":{\"outlinewidth\":0,\"ticks\":\"\"},\"colorscale\":[[0.0,\"#0d0887\"],[0.1111111111111111,\"#46039f\"],[0.2222222222222222,\"#7201a8\"],[0.3333333333333333,\"#9c179e\"],[0.4444444444444444,\"#bd3786\"],[0.5555555555555556,\"#d8576b\"],[0.6666666666666666,\"#ed7953\"],[0.7777777777777778,\"#fb9f3a\"],[0.8888888888888888,\"#fdca26\"],[1.0,\"#f0f921\"]]}],\"choropleth\":[{\"type\":\"choropleth\",\"colorbar\":{\"outlinewidth\":0,\"ticks\":\"\"}}],\"histogram2d\":[{\"type\":\"histogram2d\",\"colorbar\":{\"outlinewidth\":0,\"ticks\":\"\"},\"colorscale\":[[0.0,\"#0d0887\"],[0.1111111111111111,\"#46039f\"],[0.2222222222222222,\"#7201a8\"],[0.3333333333333333,\"#9c179e\"],[0.4444444444444444,\"#bd3786\"],[0.5555555555555556,\"#d8576b\"],[0.6666666666666666,\"#ed7953\"],[0.7777777777777778,\"#fb9f3a\"],[0.8888888888888888,\"#fdca26\"],[1.0,\"#f0f921\"]]}],\"heatmap\":[{\"type\":\"heatmap\",\"colorbar\":{\"outlinewidth\":0,\"ticks\":\"\"},\"colorscale\":[[0.0,\"#0d0887\"],[0.1111111111111111,\"#46039f\"],[0.2222222222222222,\"#7201a8\"],[0.3333333333333333,\"#9c179e\"],[0.4444444444444444,\"#bd3786\"],[0.5555555555555556,\"#d8576b\"],[0.6666666666666666,\"#ed7953\"],[0.7777777777777778,\"#fb9f3a\"],[0.8888888888888888,\"#fdca26\"],[1.0,\"#f0f921\"]]}],\"heatmapgl\":[{\"type\":\"heatmapgl\",\"colorbar\":{\"outlinewidth\":0,\"ticks\":\"\"},\"colorscale\":[[0.0,\"#0d0887\"],[0.1111111111111111,\"#46039f\"],[0.2222222222222222,\"#7201a8\"],[0.3333333333333333,\"#9c179e\"],[0.4444444444444444,\"#bd3786\"],[0.5555555555555556,\"#d8576b\"],[0.6666666666666666,\"#ed7953\"],[0.7777777777777778,\"#fb9f3a\"],[0.8888888888888888,\"#fdca26\"],[1.0,\"#f0f921\"]]}],\"contourcarpet\":[{\"type\":\"contourcarpet\",\"colorbar\":{\"outlinewidth\":0,\"ticks\":\"\"}}],\"contour\":[{\"type\":\"contour\",\"colorbar\":{\"outlinewidth\":0,\"ticks\":\"\"},\"colorscale\":[[0.0,\"#0d0887\"],[0.1111111111111111,\"#46039f\"],[0.2222222222222222,\"#7201a8\"],[0.3333333333333333,\"#9c179e\"],[0.4444444444444444,\"#bd3786\"],[0.5555555555555556,\"#d8576b\"],[0.6666666666666666,\"#ed7953\"],[0.7777777777777778,\"#fb9f3a\"],[0.8888888888888888,\"#fdca26\"],[1.0,\"#f0f921\"]]}],\"surface\":[{\"type\":\"surface\",\"colorbar\":{\"outlinewidth\":0,\"ticks\":\"\"},\"colorscale\":[[0.0,\"#0d0887\"],[0.1111111111111111,\"#46039f\"],[0.2222222222222222,\"#7201a8\"],[0.3333333333333333,\"#9c179e\"],[0.4444444444444444,\"#bd3786\"],[0.5555555555555556,\"#d8576b\"],[0.6666666666666666,\"#ed7953\"],[0.7777777777777778,\"#fb9f3a\"],[0.8888888888888888,\"#fdca26\"],[1.0,\"#f0f921\"]]}],\"mesh3d\":[{\"type\":\"mesh3d\",\"colorbar\":{\"outlinewidth\":0,\"ticks\":\"\"}}],\"scatter\":[{\"fillpattern\":{\"fillmode\":\"overlay\",\"size\":10,\"solidity\":0.2},\"type\":\"scatter\"}],\"parcoords\":[{\"type\":\"parcoords\",\"line\":{\"colorbar\":{\"outlinewidth\":0,\"ticks\":\"\"}}}],\"scatterpolargl\":[{\"type\":\"scatterpolargl\",\"marker\":{\"colorbar\":{\"outlinewidth\":0,\"ticks\":\"\"}}}],\"bar\":[{\"error_x\":{\"color\":\"#2a3f5f\"},\"error_y\":{\"color\":\"#2a3f5f\"},\"marker\":{\"line\":{\"color\":\"#E5ECF6\",\"width\":0.5},\"pattern\":{\"fillmode\":\"overlay\",\"size\":10,\"solidity\":0.2}},\"type\":\"bar\"}],\"scattergeo\":[{\"type\":\"scattergeo\",\"marker\":{\"colorbar\":{\"outlinewidth\":0,\"ticks\":\"\"}}}],\"scatterpolar\":[{\"type\":\"scatterpolar\",\"marker\":{\"colorbar\":{\"outlinewidth\":0,\"ticks\":\"\"}}}],\"histogram\":[{\"marker\":{\"pattern\":{\"fillmode\":\"overlay\",\"size\":10,\"solidity\":0.2}},\"type\":\"histogram\"}],\"scattergl\":[{\"type\":\"scattergl\",\"marker\":{\"colorbar\":{\"outlinewidth\":0,\"ticks\":\"\"}}}],\"scatter3d\":[{\"type\":\"scatter3d\",\"line\":{\"colorbar\":{\"outlinewidth\":0,\"ticks\":\"\"}},\"marker\":{\"colorbar\":{\"outlinewidth\":0,\"ticks\":\"\"}}}],\"scattermapbox\":[{\"type\":\"scattermapbox\",\"marker\":{\"colorbar\":{\"outlinewidth\":0,\"ticks\":\"\"}}}],\"scatterternary\":[{\"type\":\"scatterternary\",\"marker\":{\"colorbar\":{\"outlinewidth\":0,\"ticks\":\"\"}}}],\"scattercarpet\":[{\"type\":\"scattercarpet\",\"marker\":{\"colorbar\":{\"outlinewidth\":0,\"ticks\":\"\"}}}],\"carpet\":[{\"aaxis\":{\"endlinecolor\":\"#2a3f5f\",\"gridcolor\":\"white\",\"linecolor\":\"white\",\"minorgridcolor\":\"white\",\"startlinecolor\":\"#2a3f5f\"},\"baxis\":{\"endlinecolor\":\"#2a3f5f\",\"gridcolor\":\"white\",\"linecolor\":\"white\",\"minorgridcolor\":\"white\",\"startlinecolor\":\"#2a3f5f\"},\"type\":\"carpet\"}],\"table\":[{\"cells\":{\"fill\":{\"color\":\"#EBF0F8\"},\"line\":{\"color\":\"white\"}},\"header\":{\"fill\":{\"color\":\"#C8D4E3\"},\"line\":{\"color\":\"white\"}},\"type\":\"table\"}],\"barpolar\":[{\"marker\":{\"line\":{\"color\":\"#E5ECF6\",\"width\":0.5},\"pattern\":{\"fillmode\":\"overlay\",\"size\":10,\"solidity\":0.2}},\"type\":\"barpolar\"}],\"pie\":[{\"automargin\":true,\"type\":\"pie\"}]},\"layout\":{\"autotypenumbers\":\"strict\",\"colorway\":[\"#636efa\",\"#EF553B\",\"#00cc96\",\"#ab63fa\",\"#FFA15A\",\"#19d3f3\",\"#FF6692\",\"#B6E880\",\"#FF97FF\",\"#FECB52\"],\"font\":{\"color\":\"#2a3f5f\"},\"hovermode\":\"closest\",\"hoverlabel\":{\"align\":\"left\"},\"paper_bgcolor\":\"white\",\"plot_bgcolor\":\"#E5ECF6\",\"polar\":{\"bgcolor\":\"#E5ECF6\",\"angularaxis\":{\"gridcolor\":\"white\",\"linecolor\":\"white\",\"ticks\":\"\"},\"radialaxis\":{\"gridcolor\":\"white\",\"linecolor\":\"white\",\"ticks\":\"\"}},\"ternary\":{\"bgcolor\":\"#E5ECF6\",\"aaxis\":{\"gridcolor\":\"white\",\"linecolor\":\"white\",\"ticks\":\"\"},\"baxis\":{\"gridcolor\":\"white\",\"linecolor\":\"white\",\"ticks\":\"\"},\"caxis\":{\"gridcolor\":\"white\",\"linecolor\":\"white\",\"ticks\":\"\"}},\"coloraxis\":{\"colorbar\":{\"outlinewidth\":0,\"ticks\":\"\"}},\"colorscale\":{\"sequential\":[[0.0,\"#0d0887\"],[0.1111111111111111,\"#46039f\"],[0.2222222222222222,\"#7201a8\"],[0.3333333333333333,\"#9c179e\"],[0.4444444444444444,\"#bd3786\"],[0.5555555555555556,\"#d8576b\"],[0.6666666666666666,\"#ed7953\"],[0.7777777777777778,\"#fb9f3a\"],[0.8888888888888888,\"#fdca26\"],[1.0,\"#f0f921\"]],\"sequentialminus\":[[0.0,\"#0d0887\"],[0.1111111111111111,\"#46039f\"],[0.2222222222222222,\"#7201a8\"],[0.3333333333333333,\"#9c179e\"],[0.4444444444444444,\"#bd3786\"],[0.5555555555555556,\"#d8576b\"],[0.6666666666666666,\"#ed7953\"],[0.7777777777777778,\"#fb9f3a\"],[0.8888888888888888,\"#fdca26\"],[1.0,\"#f0f921\"]],\"diverging\":[[0,\"#8e0152\"],[0.1,\"#c51b7d\"],[0.2,\"#de77ae\"],[0.3,\"#f1b6da\"],[0.4,\"#fde0ef\"],[0.5,\"#f7f7f7\"],[0.6,\"#e6f5d0\"],[0.7,\"#b8e186\"],[0.8,\"#7fbc41\"],[0.9,\"#4d9221\"],[1,\"#276419\"]]},\"xaxis\":{\"gridcolor\":\"white\",\"linecolor\":\"white\",\"ticks\":\"\",\"title\":{\"standoff\":15},\"zerolinecolor\":\"white\",\"automargin\":true,\"zerolinewidth\":2},\"yaxis\":{\"gridcolor\":\"white\",\"linecolor\":\"white\",\"ticks\":\"\",\"title\":{\"standoff\":15},\"zerolinecolor\":\"white\",\"automargin\":true,\"zerolinewidth\":2},\"scene\":{\"xaxis\":{\"backgroundcolor\":\"#E5ECF6\",\"gridcolor\":\"white\",\"linecolor\":\"white\",\"showbackground\":true,\"ticks\":\"\",\"zerolinecolor\":\"white\",\"gridwidth\":2},\"yaxis\":{\"backgroundcolor\":\"#E5ECF6\",\"gridcolor\":\"white\",\"linecolor\":\"white\",\"showbackground\":true,\"ticks\":\"\",\"zerolinecolor\":\"white\",\"gridwidth\":2},\"zaxis\":{\"backgroundcolor\":\"#E5ECF6\",\"gridcolor\":\"white\",\"linecolor\":\"white\",\"showbackground\":true,\"ticks\":\"\",\"zerolinecolor\":\"white\",\"gridwidth\":2}},\"shapedefaults\":{\"line\":{\"color\":\"#2a3f5f\"}},\"annotationdefaults\":{\"arrowcolor\":\"#2a3f5f\",\"arrowhead\":0,\"arrowwidth\":1},\"geo\":{\"bgcolor\":\"white\",\"landcolor\":\"#E5ECF6\",\"subunitcolor\":\"white\",\"showland\":true,\"showlakes\":true,\"lakecolor\":\"white\"},\"title\":{\"x\":0.05},\"mapbox\":{\"style\":\"light\"}}},\"legend\":{\"title\":{\"text\":\"High Performers\"}},\"xaxis\":{\"title\":{\"text\":\"Sub-Industries in Real Estate Sector\"}},\"yaxis\":{\"title\":{\"text\":\"% Companies Remaining\"}}},                        {\"responsive\": true}                    ).then(function(){\n",
       "                            \n",
       "var gd = document.getElementById('67237c72-2ceb-4364-8b04-c42a1bc2d0f3');\n",
       "var x = new MutationObserver(function (mutations, observer) {{\n",
       "        var display = window.getComputedStyle(gd).display;\n",
       "        if (!display || display === 'none') {{\n",
       "            console.log([gd, 'removed!']);\n",
       "            Plotly.purge(gd);\n",
       "            observer.disconnect();\n",
       "        }}\n",
       "}});\n",
       "\n",
       "// Listen for the removal of the full notebook cells\n",
       "var notebookContainer = gd.closest('#notebook-container');\n",
       "if (notebookContainer) {{\n",
       "    x.observe(notebookContainer, {childList: true});\n",
       "}}\n",
       "\n",
       "// Listen for the clearing of the current output cell\n",
       "var outputEl = gd.closest('.output');\n",
       "if (outputEl) {{\n",
       "    x.observe(outputEl, {childList: true});\n",
       "}}\n",
       "\n",
       "                        })                };                });            </script>        </div>"
      ]
     },
     "metadata": {},
     "output_type": "display_data"
    }
   ],
   "source": [
    "fig = go.Figure(data=[\n",
    "    #go.Bar(name='SP500', x=a.index, y=a['sector']),\n",
    "    #go.Bar(name='SP500 Filtered', x=a.index, y=a['Remaining Count']),\n",
    "    go.Bar(name='Remaining %', x=c.index, y=c['Remaining %'], text=c['Remaining %'])\n",
    "])\n",
    "# Change the bar mode\n",
    "#fig.update_layout(barmode='group')\n",
    "fig.update_layout(legend_title_text = \"High Performers\")\n",
    "fig.update_xaxes(title_text=\"Sub-Industries in Real Estate Sector\")\n",
    "fig.update_yaxes(title_text=\"% Companies Remaining\")\n",
    "fig.show()\n",
    "\n",
    "del a, b, c, d #deleting temp dataframes"
   ]
  },
  {
   "cell_type": "markdown",
   "id": "32dfba01-67da-40d8-a6f7-c2e5f57ee19c",
   "metadata": {
    "tags": []
   },
   "source": [
    "### <font color='#CC0000'>CodeSection F: Sharpe Ratio Calculation</font>"
   ]
  },
  {
   "cell_type": "code",
   "execution_count": 116,
   "id": "431683f7-c85c-40db-99e3-3c10b545c60d",
   "metadata": {},
   "outputs": [
    {
     "name": "stdout",
     "output_type": "stream",
     "text": [
      "0.01970397949221047\n",
      "0.03613737267364621\n",
      "0.042947093332561886\n",
      "0.047564849367812745\n",
      "0.04189330526461632\n",
      "0.03672178443069921\n",
      "0.03433114087075359\n",
      "0.03426064654117654\n",
      "0.03888054591376224\n",
      "0.0574009878644653\n",
      "0.05395453784046053\n",
      "0.050480473234771374\n",
      "0.049889940824270146\n",
      "0.04718875527047089\n",
      "0.04691097312195751\n",
      "0.04691097312195751\n",
      "0.04691097312195751\n",
      "0.04691097312195751\n",
      "0.04691097312195751\n",
      "0.04691097312195751\n"
     ]
    }
   ],
   "source": [
    "# to check the optimum timeframe for optimiser\n",
    "\n",
    "timescale = []\n",
    "sp500_return_vs_time = []\n",
    "sp500_volatility_vs_time = []\n",
    "\n",
    "for i in range(1, 21, 1):\n",
    "    days = i*90    #90 days to step every quarter for upto 5 years\n",
    "    df_temp = sp500.tail(days)\n",
    "    result1 = expected_returns.mean_historical_return(df_temp)\n",
    "    result2 = risk_models.sample_cov(df_temp)\n",
    "    #opt_result, opt_weight = optimize(df_temp)\n",
    "    sp500_return_vs_time.append(result1[0])\n",
    "    sp500_volatility_vs_time.append(result2['close'][0])\n",
    "    timescale.append(i)\n",
    "    print((result2['close'][0]))\n",
    "    \n",
    "del df_temp"
   ]
  },
  {
   "cell_type": "code",
   "execution_count": 117,
   "id": "47728f76-9b8f-4756-85f8-8686f8f6d59d",
   "metadata": {},
   "outputs": [
    {
     "data": {
      "text/plain": [
       "[0.2138633369504217,\n",
       " 0.30974907769293947,\n",
       " 0.1215566847909153,\n",
       " -0.04564563854587389,\n",
       " -0.015853529622596896,\n",
       " 0.024544529400573056,\n",
       " 0.07344607205279563,\n",
       " 0.10096532906035072,\n",
       " 0.18105204790758656,\n",
       " 0.10181323312285073,\n",
       " 0.10178389127110421,\n",
       " 0.11456368084976232,\n",
       " 0.10795781578846375,\n",
       " 0.09676388817559989,\n",
       " 0.09856108983326717,\n",
       " 0.09856108983326717,\n",
       " 0.09856108983326717,\n",
       " 0.09856108983326717,\n",
       " 0.09856108983326717,\n",
       " 0.09856108983326717]"
      ]
     },
     "execution_count": 117,
     "metadata": {},
     "output_type": "execute_result"
    }
   ],
   "source": [
    "sp500_return_vs_time"
   ]
  },
  {
   "cell_type": "code",
   "execution_count": 118,
   "id": "9039232b-4c58-4e0a-8371-d4f5b3f844f9",
   "metadata": {},
   "outputs": [
    {
     "data": {
      "text/plain": [
       "[1, 2, 3, 4, 5, 6, 7, 8, 9, 10, 11, 12, 13, 14, 15, 16, 17, 18, 19, 20]"
      ]
     },
     "execution_count": 118,
     "metadata": {},
     "output_type": "execute_result"
    }
   ],
   "source": [
    "timescale"
   ]
  },
  {
   "cell_type": "code",
   "execution_count": 119,
   "id": "d01ec3a8-d103-4e16-a9e8-47ae60400fca",
   "metadata": {},
   "outputs": [
    {
     "data": {
      "text/html": [
       "<div>\n",
       "<style scoped>\n",
       "    .dataframe tbody tr th:only-of-type {\n",
       "        vertical-align: middle;\n",
       "    }\n",
       "\n",
       "    .dataframe tbody tr th {\n",
       "        vertical-align: top;\n",
       "    }\n",
       "\n",
       "    .dataframe thead th {\n",
       "        text-align: right;\n",
       "    }\n",
       "</style>\n",
       "<table border=\"1\" class=\"dataframe\">\n",
       "  <thead>\n",
       "    <tr style=\"text-align: right;\">\n",
       "      <th></th>\n",
       "      <th>Return</th>\n",
       "      <th>Volatility</th>\n",
       "      <th>Sharpe Ratio</th>\n",
       "    </tr>\n",
       "    <tr>\n",
       "      <th>TimePeriod</th>\n",
       "      <th></th>\n",
       "      <th></th>\n",
       "      <th></th>\n",
       "    </tr>\n",
       "  </thead>\n",
       "  <tbody>\n",
       "    <tr>\n",
       "      <th>1</th>\n",
       "      <td>0.213863</td>\n",
       "      <td>0.019704</td>\n",
       "      <td>8.696890</td>\n",
       "    </tr>\n",
       "    <tr>\n",
       "      <th>2</th>\n",
       "      <td>0.309749</td>\n",
       "      <td>0.036137</td>\n",
       "      <td>7.395365</td>\n",
       "    </tr>\n",
       "    <tr>\n",
       "      <th>3</th>\n",
       "      <td>0.121557</td>\n",
       "      <td>0.042947</td>\n",
       "      <td>1.840792</td>\n",
       "    </tr>\n",
       "    <tr>\n",
       "      <th>4</th>\n",
       "      <td>-0.045646</td>\n",
       "      <td>0.047565</td>\n",
       "      <td>-1.853168</td>\n",
       "    </tr>\n",
       "    <tr>\n",
       "      <th>5</th>\n",
       "      <td>-0.015854</td>\n",
       "      <td>0.041893</td>\n",
       "      <td>-1.392908</td>\n",
       "    </tr>\n",
       "    <tr>\n",
       "      <th>6</th>\n",
       "      <td>0.024545</td>\n",
       "      <td>0.036722</td>\n",
       "      <td>-0.488960</td>\n",
       "    </tr>\n",
       "    <tr>\n",
       "      <th>7</th>\n",
       "      <td>0.073446</td>\n",
       "      <td>0.034331</td>\n",
       "      <td>0.901399</td>\n",
       "    </tr>\n",
       "    <tr>\n",
       "      <th>8</th>\n",
       "      <td>0.100965</td>\n",
       "      <td>0.034261</td>\n",
       "      <td>1.706486</td>\n",
       "    </tr>\n",
       "    <tr>\n",
       "      <th>9</th>\n",
       "      <td>0.181052</td>\n",
       "      <td>0.038881</td>\n",
       "      <td>3.563531</td>\n",
       "    </tr>\n",
       "    <tr>\n",
       "      <th>10</th>\n",
       "      <td>0.101813</td>\n",
       "      <td>0.057401</td>\n",
       "      <td>1.033314</td>\n",
       "    </tr>\n",
       "    <tr>\n",
       "      <th>11</th>\n",
       "      <td>0.101784</td>\n",
       "      <td>0.053955</td>\n",
       "      <td>1.098775</td>\n",
       "    </tr>\n",
       "    <tr>\n",
       "      <th>12</th>\n",
       "      <td>0.114564</td>\n",
       "      <td>0.050480</td>\n",
       "      <td>1.427556</td>\n",
       "    </tr>\n",
       "    <tr>\n",
       "      <th>13</th>\n",
       "      <td>0.107958</td>\n",
       "      <td>0.049890</td>\n",
       "      <td>1.312044</td>\n",
       "    </tr>\n",
       "    <tr>\n",
       "      <th>14</th>\n",
       "      <td>0.096764</td>\n",
       "      <td>0.047189</td>\n",
       "      <td>1.149933</td>\n",
       "    </tr>\n",
       "    <tr>\n",
       "      <th>15</th>\n",
       "      <td>0.098561</td>\n",
       "      <td>0.046911</td>\n",
       "      <td>1.195053</td>\n",
       "    </tr>\n",
       "    <tr>\n",
       "      <th>16</th>\n",
       "      <td>0.098561</td>\n",
       "      <td>0.046911</td>\n",
       "      <td>1.195053</td>\n",
       "    </tr>\n",
       "    <tr>\n",
       "      <th>17</th>\n",
       "      <td>0.098561</td>\n",
       "      <td>0.046911</td>\n",
       "      <td>1.195053</td>\n",
       "    </tr>\n",
       "    <tr>\n",
       "      <th>18</th>\n",
       "      <td>0.098561</td>\n",
       "      <td>0.046911</td>\n",
       "      <td>1.195053</td>\n",
       "    </tr>\n",
       "    <tr>\n",
       "      <th>19</th>\n",
       "      <td>0.098561</td>\n",
       "      <td>0.046911</td>\n",
       "      <td>1.195053</td>\n",
       "    </tr>\n",
       "    <tr>\n",
       "      <th>20</th>\n",
       "      <td>0.098561</td>\n",
       "      <td>0.046911</td>\n",
       "      <td>1.195053</td>\n",
       "    </tr>\n",
       "  </tbody>\n",
       "</table>\n",
       "</div>"
      ],
      "text/plain": [
       "              Return  Volatility  Sharpe Ratio\n",
       "TimePeriod                                    \n",
       "1           0.213863    0.019704      8.696890\n",
       "2           0.309749    0.036137      7.395365\n",
       "3           0.121557    0.042947      1.840792\n",
       "4          -0.045646    0.047565     -1.853168\n",
       "5          -0.015854    0.041893     -1.392908\n",
       "6           0.024545    0.036722     -0.488960\n",
       "7           0.073446    0.034331      0.901399\n",
       "8           0.100965    0.034261      1.706486\n",
       "9           0.181052    0.038881      3.563531\n",
       "10          0.101813    0.057401      1.033314\n",
       "11          0.101784    0.053955      1.098775\n",
       "12          0.114564    0.050480      1.427556\n",
       "13          0.107958    0.049890      1.312044\n",
       "14          0.096764    0.047189      1.149933\n",
       "15          0.098561    0.046911      1.195053\n",
       "16          0.098561    0.046911      1.195053\n",
       "17          0.098561    0.046911      1.195053\n",
       "18          0.098561    0.046911      1.195053\n",
       "19          0.098561    0.046911      1.195053\n",
       "20          0.098561    0.046911      1.195053"
      ]
     },
     "execution_count": 119,
     "metadata": {},
     "output_type": "execute_result"
    }
   ],
   "source": [
    "sp500_perf = pd.DataFrame(list(zip(timescale, sp500_return_vs_time, sp500_volatility_vs_time)))\n",
    "sp500_perf.reset_index\n",
    "sp500_perf.rename(columns={0: \"TimePeriod\", 1:\"Return\", 2:'Volatility'}, inplace=True)\n",
    "sp500_perf.set_index(\"TimePeriod\", inplace=True)\n",
    "sp500_perf[\"Return\"] = sp500_perf[\"Return\"]\n",
    "sp500_perf[\"Sharpe Ratio\"] = (sp500_perf[\"Return\"] - RiskFreeRate)/sp500_perf[\"Volatility\"]\n",
    "sp500_perf"
   ]
  },
  {
   "cell_type": "code",
   "execution_count": 124,
   "id": "4852a089-3d6f-491e-86bf-c045a3776749",
   "metadata": {},
   "outputs": [
    {
     "data": {
      "image/png": "[encoded data removed]",
      "text/plain": [
       "<Figure size 2000x1000 with 2 Axes>"
      ]
     },
     "metadata": {},
     "output_type": "display_data"
    }
   ],
   "source": [
    "fig, ax = plt.subplots(figsize=(20,10))\n",
    "\n",
    "sp500_perf.plot(y = 'Return', color='g', ax = ax)\n",
    "sp500_perf.plot(y = 'Volatility', color='r', ax = ax)\n",
    "sp500_perf.plot(y = 'Sharpe Ratio', color='b', ax = ax, linestyle='dashed', linewidth=3, secondary_y=True)\n",
    "plt.ylabel(\"Return and Volatility\")\n",
    "ax.right_ax.set_ylabel('Sharpe Ratio')\n",
    "ax.set_ylabel('Return and Volatility')\n",
    "ax.set_xlabel('Time Period (in quarters)')\n",
    "plt.tight_layout()\n",
    "plt.savefig(\"SharpeRatio.png\") #uncomment to save again"
   ]
  },
  {
   "cell_type": "code",
   "execution_count": 125,
   "id": "6016908f-ee88-4c1c-a869-0f6780cf9474",
   "metadata": {},
   "outputs": [
    {
     "data": {
      "text/plain": [
       "TimePeriod\n",
       "1     8.696890\n",
       "2     7.395365\n",
       "3     1.840792\n",
       "4    -1.853168\n",
       "5    -1.392908\n",
       "6    -0.488960\n",
       "7     0.901399\n",
       "8     1.706486\n",
       "9     3.563531\n",
       "10    1.033314\n",
       "11    1.098775\n",
       "12    1.427556\n",
       "13    1.312044\n",
       "14    1.149933\n",
       "15    1.195053\n",
       "16    1.195053\n",
       "17    1.195053\n",
       "18    1.195053\n",
       "19    1.195053\n",
       "20    1.195053\n",
       "Name: Sharpe Ratio, dtype: float64"
      ]
     },
     "execution_count": 125,
     "metadata": {},
     "output_type": "execute_result"
    }
   ],
   "source": [
    "sp500_perf['Sharpe Ratio']"
   ]
  },
  {
   "cell_type": "markdown",
   "id": "fa160e01-7698-4ee9-8426-d6f52f9090db",
   "metadata": {
    "tags": []
   },
   "source": [
    "### <font color='#CC0000'>CodeSection G: LSTM</font>"
   ]
  },
  {
   "cell_type": "code",
   "execution_count": 62,
   "id": "f83eb8d1-372a-4fb0-9bba-8d812a0e1ede",
   "metadata": {},
   "outputs": [],
   "source": [
    "#to run/test the forecasting on sp500\n",
    "temp = sp500.copy()\n",
    "temp = temp.resample('W').mean()\n",
    "temp = temp[temp.index.year.isin([2021, 2022, 2023])]"
   ]
  },
  {
   "cell_type": "code",
   "execution_count": 130,
   "id": "276dfc6d-f2a3-4e2e-ad8e-45c0c155b6cf",
   "metadata": {},
   "outputs": [],
   "source": [
    "%%capture\n",
    "\n",
    "## LSTM Model\n",
    "## Portions of code adopted from the following:\n",
    "    # https://stackoverflow.com/questions/69785891/how-to-use-the-lstm-model-for-multi-step-forecasting\n",
    "    # https://medium.com/the-handbook-of-coding-in-finance/stock-prices-prediction-using-long-short-term-memory-lstm-model-in-python-734dd1ed6827\n",
    "\n",
    "# Trains, tests, and forecasts asset by asset\n",
    "def forecast(temp):\n",
    "    \n",
    "    window_size = 12 #Size of rolling window to train on (in weeks)\n",
    "    \n",
    "    values = temp.values\n",
    "    training_data_len = math.ceil(len(values)* 0.8)\n",
    "\n",
    "    scaler = MinMaxScaler(feature_range=(0,1))\n",
    "    scaled_data = scaler.fit_transform(values.reshape(-1,1))\n",
    "\n",
    "    train_data = scaled_data[0: training_data_len, :]\n",
    "    x_train = []\n",
    "    y_train = []\n",
    "\n",
    "    for i in range(window_size, len(train_data)):\n",
    "        x_train.append(train_data[i-window_size:i, 0])\n",
    "        y_train.append(train_data[i, 0])\n",
    "\n",
    "    x_train, y_train = np.array(x_train), np.array(y_train)\n",
    "    x_train = np.reshape(x_train, (x_train.shape[0], x_train.shape[1], 1))\n",
    "\n",
    "    test_data = scaled_data[training_data_len-window_size: , : ]\n",
    "    x_test = []\n",
    "    y_test = values[training_data_len:]\n",
    "\n",
    "    for i in range(window_size, len(test_data)):\n",
    "        x_test.append(test_data[i-window_size:i, 0])\n",
    "\n",
    "    x_test = np.array(x_test)\n",
    "    x_test = np.reshape(x_test, (x_test.shape[0], x_test.shape[1], 1))\n",
    "\n",
    "    tf.random.set_seed(1)\n",
    "    model = keras.Sequential()\n",
    "    model.add(layers.LSTM(15, return_sequences=True, activation='relu', input_shape=(x_train.shape[1], 1)))\n",
    "    model.add(layers.LSTM(15, activation='relu', return_sequences=False))\n",
    "    model.add(layers.Dense(5))\n",
    "    model.add(layers.Dense(1))\n",
    "    #model.summary()\n",
    "\n",
    "    #start_time = time.time()\n",
    "    model.compile(optimizer='adam', loss='mean_squared_error')\n",
    "    model.fit(x_train, y_train, batch_size= 1, epochs=15 ,verbose=False) #Turn on for tuning\n",
    "    #print(time.time()- start_time)\n",
    "\n",
    "    predictions = model.predict(x_test)\n",
    "    predictions = scaler.inverse_transform(predictions)\n",
    "    rmse_mean = np.sqrt(np.mean(predictions - y_test)**2)\n",
    "    rmse_sum = np.sqrt(np.sum(predictions - y_test)**2)\n",
    "    print(rmse_mean, rmse_sum)\n",
    "\n",
    "    # train = temp[:training_data_len]\n",
    "    # validation = temp[training_data_len:]\n",
    "    # validation['Predictions'] = predictions\n",
    "\n",
    "    # plt.figure(figsize=(16,8))\n",
    "    # plt.title('LSTM Model Prediction')\n",
    "    # plt.xlabel('Date')\n",
    "    # plt.ylabel('Close Price USD ($)')\n",
    "    # #plt.plot(train)\n",
    "    # plt.plot(validation[['close', 'Predictions']])\n",
    "    # plt.legend(['Train', 'Val', 'Predictions'], loc='lower right')\n",
    "    # #plt.savefig('1.png')\n",
    "    # plt.show()\n",
    "\n",
    "    return predictions[-1][0], rmse_mean, rmse_sum"
   ]
  },
  {
   "cell_type": "code",
   "execution_count": null,
   "id": "20fc95de-8d02-4c45-988f-ce4426ddd9ef",
   "metadata": {},
   "outputs": [],
   "source": [
    "'''\n",
    "# generate the multi-step forecasts\n",
    "n_future = 4\n",
    "y_future = []\n",
    "\n",
    "x_pred = x_test[-1:, :, :]  # last observed input sequence\n",
    "y_pred = y_test[-1]         # last observed target value\n",
    "\n",
    "for i in range(n_future):\n",
    "\n",
    "    # feed the last forecast back to the model as an input\n",
    "    x_pred = np.append(x_pred[:, 1:, :], y_pred.reshape(1, 1, 1), axis=1)\n",
    "\n",
    "    # generate the next forecast\n",
    "    y_pred = model.predict(x_pred)\n",
    "\n",
    "    # save the forecast\n",
    "    y_future.append(y_pred.flatten()[0])\n",
    "\n",
    "# transform the forecasts back to the original scale\n",
    "y_future = np.array(y_future).reshape(-1, 1)\n",
    "y_future = scaler.inverse_transform(y_future)\n",
    "\n",
    "y_future\n",
    "'''"
   ]
  },
  {
   "cell_type": "code",
   "execution_count": 127,
   "id": "a3d8a873-9873-4805-a0b9-6c53e40a5c70",
   "metadata": {},
   "outputs": [],
   "source": [
    "#plt.savefig('1.png')"
   ]
  },
  {
   "cell_type": "markdown",
   "id": "8d7e5bb0-8cfd-4eff-b021-44deb28686f6",
   "metadata": {
    "tags": []
   },
   "source": [
    "### <font color='#CC0000'>CodeSection H: Optimizing the forecasted</font>"
   ]
  },
  {
   "cell_type": "code",
   "execution_count": 361,
   "id": "9333358b-50b4-49e0-be49-d10a33381086",
   "metadata": {},
   "outputs": [],
   "source": [
    "temp2 = df_filtered.copy()\n",
    "temp2 = temp2[temp2.index.year.isin([2021, 2022, 2023])]\n",
    "temp2 = temp2.resample('W').mean()\n",
    "#temp = temp.iloc[:-25,:] #computing at 2 quarters earlier"
   ]
  },
  {
   "cell_type": "code",
   "execution_count": 113,
   "id": "34d386cd-b8d4-4829-9a1b-9e7b27ba305c",
   "metadata": {},
   "outputs": [],
   "source": [
    "individual_list = df_splitter(temp2)"
   ]
  },
  {
   "cell_type": "code",
   "execution_count": null,
   "id": "83a4cbef-29b3-4413-baff-5bac842e52f6",
   "metadata": {},
   "outputs": [],
   "source": [
    "forecasted_df_summary = pd.DataFrame()\n",
    "\n",
    "i = -1\n",
    "name = []\n",
    "rmse_mean = []\n",
    "rmse_sum = []\n",
    "value_pred = []\n",
    "value_actual = []\n",
    "start_time = time.time()\n",
    "\n",
    "for j in individual_list:\n",
    "    i += 1\n",
    "    actual_value = j.iloc[-1,0]\n",
    "    predicted_value, rmseMean, rmseSum = forecast(j)\n",
    "    j.iloc[-1,0] = predicted_value\n",
    "    name.append(individual_list[i].columns[0])\n",
    "    rmse_mean.append(rmseMean)\n",
    "    rmse_sum.append(rmseSum)\n",
    "    value_actual.append(actual_value)\n",
    "    value_pred.append(predicted_value)\n",
    "    \n",
    "    print(f\"{i+1} of 343 completed\")\n",
    "    print(time.time()- start_time)\n",
    "\n",
    "forecasted_df_summary[\"name\"] = name\n",
    "forecasted_df_summary[\"rmse_mean\"] = rmse_mean\n",
    "forecasted_df_summary[\"rmse_total\"] = rmse_sum\n",
    "forecasted_df_summary[\"value_actual\"] = value_actual\n",
    "forecasted_df_summary[\"value_pred\"] = value_pred\n",
    "\n",
    "forecasted_df_summary.to_csv(\"forecasted_df_summary.csv\")"
   ]
  },
  {
   "cell_type": "code",
   "execution_count": 116,
   "id": "0eb9549c-56c9-4242-8607-1b3de0b577d6",
   "metadata": {},
   "outputs": [],
   "source": [
    "forecasted_df = pd.concat(individual_list ,axis=1)\n",
    "forecasted_df.to_csv(\"forecasted_df.csv\")"
   ]
  },
  {
   "cell_type": "code",
   "execution_count": 105,
   "id": "bc2ef448-84c7-420d-b545-ebbdf0016b56",
   "metadata": {},
   "outputs": [],
   "source": [
    "#f_df_0q = forecasted_df   # Saving model output result to file for current time T0\n",
    "#f_df_1q = forecasted_df   # Saving model output result to file for current time T0 - 1 quarter\n",
    "f_df_2q = forecasted_df    # Saving model output result to file for current time T0 - 2 quarters"
   ]
  },
  {
   "cell_type": "markdown",
   "id": "92bb0d3c-3564-482a-9029-a1aec34f002a",
   "metadata": {
    "tags": []
   },
   "source": [
    "### <font color='#CC0000'>CodeSection I: Evaluation</font>"
   ]
  },
  {
   "cell_type": "code",
   "execution_count": 362,
   "id": "d05ba355-f841-4c71-a25c-2026d33aae8e",
   "metadata": {},
   "outputs": [],
   "source": [
    "# Adding additional data to resolve solver issues\n",
    "added = df_filtered[df_filtered.index.year.isin([2018, 2019])]\n",
    "added = added.resample('W').mean()"
   ]
  },
  {
   "cell_type": "code",
   "execution_count": 303,
   "id": "36655d44-55e5-4676-90dc-df90edc27c8b",
   "metadata": {},
   "outputs": [],
   "source": [
    "# Reading back in results generated\n",
    "filtered_T = pd.read_csv('filtered_forecasted_T.csv', index_col='date')\n",
    "filtered_T = filtered_T[list_40]\n",
    "filtered_T = pd.concat([added, filtered_T])\n",
    "filtered_T.index = pd.to_datetime(filtered_T.index, format = '%Y/%m/%d').strftime('%Y-%m-%d')\n",
    "filtered_Tm1q = pd.read_csv('filtered_forecasted_T-1quarter.csv', index_col='date')\n",
    "filtered_Tm1q = filtered_Tm1q[list_40]\n",
    "filtered_Tm1q = pd.concat([added, filtered_Tm1q])\n",
    "filtered_Tm1q.index = pd.to_datetime(filtered_Tm1q.index, format = '%Y/%m/%d').strftime('%Y-%m-%d')\n",
    "filtered_Tm2q = pd.read_csv('filtered_forecasted_T-2quarter.csv', index_col='date')\n",
    "filtered_Tm2q = filtered_Tm2q[list_40]\n",
    "filtered_Tm2q = pd.concat([added, filtered_Tm2q])\n",
    "filtered_Tm2q.index = pd.to_datetime(filtered_Tm2q.index, format = '%Y/%m/%d').strftime('%Y-%m-%d')\n",
    "\n",
    "list_lstm_optimized = [filtered_T, filtered_Tm1q]"
   ]
  },
  {
   "cell_type": "code",
   "execution_count": 409,
   "id": "9b3554ed-24e6-4e45-80f9-f8e388febc97",
   "metadata": {},
   "outputs": [
    {
     "name": "stdout",
     "output_type": "stream",
     "text": [
      "OrderedDict([('GEHC', 0.0704), ('ENPH', 0.0), ('LLY', 0.0), ('CARR', 0.0), ('CEG', 0.0), ('CDNS', 0.0), ('SNPS', 0.0), ('PWR', 0.0), ('AZO', 0.04056), ('HSY', 0.0), ('CMG', 0.0), ('AJG', 0.0), ('TSLA', 0.0), ('FTNT', 0.0), ('ORLY', 0.88904), ('AMD', 0.0), ('AON', 0.0), ('AAPL', 0.0), ('WST', 0.0), ('MSFT', 0.0), ('COST', 0.0), ('NVDA', 0.0), ('DXCM', 0.0), ('FICO', 0.0), ('CPRT', 0.0), ('MCK', 0.0), ('OTIS', 0.0), ('MRNA', 0.0), ('ODFL', 0.0), ('TSCO', 0.0), ('MOH', 0.0), ('KLAC', 0.0), ('RSG', 0.0), ('AVGO', 0.0), ('MSI', 0.0), ('MMC', 0.0), ('TMO', 0.0), ('LIN', 0.0), ('MSCI', 0.0), ('BRO', 0.0)])\n",
      "Expected annual return: 718.5%\n",
      "Annual volatility: 36.3%\n",
      "Sharpe Ratio: 19.75\n",
      "return is:  0   -0.587226\n",
      "dtype: float64\n",
      "OrderedDict([('GEHC', 0.03469), ('ENPH', 0.0), ('LLY', 0.9032), ('CARR', 0.0), ('CEG', 0.0), ('CDNS', 0.0), ('SNPS', 0.0), ('PWR', 0.0), ('AZO', 0.0), ('HSY', 0.0), ('CMG', 0.0), ('AJG', 0.0), ('TSLA', 0.0), ('FTNT', 0.0), ('ORLY', 0.0), ('AMD', 0.0), ('AON', 0.0), ('AAPL', 0.0), ('WST', 0.0), ('MSFT', 0.0), ('COST', 0.06211), ('NVDA', 0.0), ('DXCM', 0.0), ('FICO', 0.0), ('CPRT', 0.0), ('MCK', 0.0), ('OTIS', 0.0), ('MRNA', 0.0), ('ODFL', 0.0), ('TSCO', 0.0), ('MOH', 0.0), ('KLAC', 0.0), ('RSG', 0.0), ('AVGO', 0.0), ('MSI', 0.0), ('MMC', 0.0), ('TMO', 0.0), ('LIN', 0.0), ('MSCI', 0.0), ('BRO', 0.0)])\n",
      "Expected annual return: 738.1%\n",
      "Annual volatility: 51.6%\n",
      "Sharpe Ratio: 14.27\n",
      "return is:  0    2.31109\n",
      "dtype: float64\n"
     ]
    }
   ],
   "source": [
    "#lstm:\n",
    "\n",
    "lstmOptimized=[]\n",
    "df_filtered_weekly = df_filtered.resample('W').mean()\n",
    "\n",
    "opt_result, opt_weight = optimize(filtered_T, forecast=True)\n",
    "#j.fillna(method='ffill', inplace=True)\n",
    "return1 = value_change(df_filtered_weekly, opt_weight)\n",
    "print(\"return is: \", return1)\n",
    "lstmOptimized.append(return1[0])\n",
    "opt_weight.to_csv(f\"lstm_opt_weight_0.csv\")\n",
    "\n",
    "opt_result, opt_weight = optimize(filtered_Tm1q, forecast=True)\n",
    "#j.fillna(method='ffill', inplace=True)\n",
    "return1 = value_change(df_filtered_weekly, opt_weight)\n",
    "print(\"return is: \", return1)\n",
    "lstmOptimized.append(return1[0])\n",
    "opt_weight.to_csv(f\"lstm_opt_weight_1.csv\")"
   ]
  },
  {
   "cell_type": "code",
   "execution_count": 410,
   "id": "32cb6ea2-d3ef-4888-a5b1-b32c7a9cef11",
   "metadata": {},
   "outputs": [
    {
     "name": "stdout",
     "output_type": "stream",
     "text": [
      "OrderedDict([('close', 1.0)])\n",
      "Expected annual return: 55.6%\n",
      "Annual volatility: 34.3%\n",
      "Sharpe Ratio: 1.56\n",
      "return is:  0    2.325199\n",
      "dtype: float64\n",
      "OrderedDict([('close', 1.0)])\n",
      "Expected annual return: 43.6%\n",
      "Annual volatility: 34.9%\n",
      "Sharpe Ratio: 1.19\n",
      "return is:  0    1.367281\n",
      "dtype: float64\n"
     ]
    }
   ],
   "source": [
    "# Index\n",
    "\n",
    "index=[]\n",
    "sp500_weekly = sp500.resample('W').mean()\n",
    "\n",
    "opt_result, opt_weight = optimize(sp500_weekly, forecast=False)\n",
    "return1 = value_change(sp500_weekly, opt_weight)\n",
    "index.append(return1[0])\n",
    "print(\"return is: \", return1)\n",
    "\n",
    "opt_result, opt_weight = optimize(sp500_weekly.iloc[:-12,:], forecast=False)\n",
    "return1 = value_change(sp500_weekly.iloc[:-12,:], opt_weight)\n",
    "index.append(return1[0])\n",
    "print(\"return is: \", return1)"
   ]
  },
  {
   "cell_type": "code",
   "execution_count": 411,
   "id": "5d157ef1-9a32-4846-a168-ccc48cc455e9",
   "metadata": {},
   "outputs": [
    {
     "name": "stdout",
     "output_type": "stream",
     "text": [
      "OrderedDict([('GEHC', 0.61781), ('ENPH', 0.00296), ('LLY', 0.31445), ('CARR', 0.0), ('CEG', 0.0), ('CDNS', 0.0), ('SNPS', 0.0), ('PWR', 0.0), ('AZO', 0.0), ('HSY', 0.05095), ('CMG', 0.0), ('AJG', 0.0), ('TSLA', 0.0), ('FTNT', 0.0), ('ORLY', 0.0), ('AMD', 0.00741), ('AON', 0.0), ('AAPL', 0.0), ('WST', 0.0), ('MSFT', 0.0), ('COST', 0.0), ('NVDA', 0.0), ('DXCM', 0.00084), ('FICO', 0.0), ('CPRT', 0.0), ('MCK', 0.0), ('OTIS', 0.0), ('MRNA', 0.0), ('ODFL', 0.0), ('TSCO', 0.0), ('MOH', 0.00558), ('KLAC', 0.0), ('RSG', 0.0), ('AVGO', 0.0), ('MSI', 0.0), ('MMC', 0.0), ('TMO', 0.0), ('LIN', 0.0), ('MSCI', 0.0), ('BRO', 0.0)])\n",
      "Expected annual return: 2060.1%\n",
      "Annual volatility: 27.4%\n",
      "Sharpe Ratio: 75.05\n",
      "return is:  0    2.027431\n",
      "dtype: float64\n",
      "OrderedDict([('GEHC', 0.72278), ('ENPH', 0.03258), ('LLY', 0.12923), ('CARR', 0.0), ('CEG', 0.0), ('CDNS', 0.0), ('SNPS', 0.0), ('PWR', 0.0), ('AZO', 0.0), ('HSY', 0.08845), ('CMG', 0.0), ('AJG', 0.0), ('TSLA', 0.0), ('FTNT', 0.0), ('ORLY', 0.0), ('AMD', 0.0), ('AON', 0.0), ('AAPL', 0.0), ('WST', 0.0), ('MSFT', 0.0), ('COST', 0.0), ('NVDA', 0.0), ('DXCM', 0.02696), ('FICO', 0.0), ('CPRT', 0.0), ('MCK', 0.0), ('OTIS', 0.0), ('MRNA', 0.0), ('ODFL', 0.0), ('TSCO', 0.0), ('MOH', 0.0), ('KLAC', 0.0), ('RSG', 0.0), ('AVGO', 0.0), ('MSI', 0.0), ('MMC', 0.0), ('TMO', 0.0), ('LIN', 0.0), ('MSCI', 0.0), ('BRO', 0.0)])\n",
      "Expected annual return: 41420.9%\n",
      "Annual volatility: 34.3%\n",
      "Sharpe Ratio: 1207.30\n",
      "return is:  0    1.452924\n",
      "dtype: float64\n"
     ]
    }
   ],
   "source": [
    "# sp500 Optimized\n",
    "\n",
    "optimized=[]\n",
    "sp500_filtered = df_filtered.copy()\n",
    "sp500_filtered_weekly = sp500_filtered.resample('W').mean()\n",
    "\n",
    "opt_result, opt_weight = optimize(sp500_filtered_weekly, forecast=False)\n",
    "return1 = value_change(sp500_filtered_weekly, opt_weight)\n",
    "optimized.append(return1[0])\n",
    "print(\"return is: \", return1)\n",
    "\n",
    "opt_result, opt_weight = optimize(sp500_filtered_weekly.iloc[:-12,:], forecast=False)\n",
    "return1 = value_change(sp500_filtered_weekly.iloc[:-12,:], opt_weight)\n",
    "optimized.append(return1[0])\n",
    "print(\"return is: \", return1)"
   ]
  },
  {
   "cell_type": "code",
   "execution_count": 412,
   "id": "a91775e1-d083-4f4e-b0a6-658568f8cfb4",
   "metadata": {},
   "outputs": [],
   "source": [
    "# Creating the dataframe for performance summary\n",
    "evaluation = pd.DataFrame()\n",
    "time=['t', 't - 1 quarter']\n",
    "evaluation['Time']=time\n",
    "evaluation['SP500 Index']=index\n",
    "evaluation['Optimized Portfolio']=optimized\n",
    "evaluation['LSTM Optimized Portfolio']=lstmOptimized\n",
    "evaluation = evaluation.round(decimals=2)\n",
    "evaluation['SP500 Index'] = evaluation['SP500 Index'].astype(str) + '%'\n",
    "evaluation['Optimized Portfolio'] = evaluation['Optimized Portfolio'].astype(str) + '%'\n",
    "evaluation['LSTM Optimized Portfolio'] = evaluation['LSTM Optimized Portfolio'].astype(str) + '%'"
   ]
  },
  {
   "cell_type": "code",
   "execution_count": 413,
   "id": "e0569d05-f204-44e8-bcb0-8d32c9633466",
   "metadata": {},
   "outputs": [],
   "source": [
    "evaluation.to_csv('evaluation_table.csv')"
   ]
  },
  {
   "cell_type": "code",
   "execution_count": 414,
   "id": "26f8a8ff-cdf2-4541-8e54-19e96be811ac",
   "metadata": {},
   "outputs": [
    {
     "data": {
      "text/html": [
       "<div>\n",
       "<style scoped>\n",
       "    .dataframe tbody tr th:only-of-type {\n",
       "        vertical-align: middle;\n",
       "    }\n",
       "\n",
       "    .dataframe tbody tr th {\n",
       "        vertical-align: top;\n",
       "    }\n",
       "\n",
       "    .dataframe thead th {\n",
       "        text-align: right;\n",
       "    }\n",
       "</style>\n",
       "<table border=\"1\" class=\"dataframe\">\n",
       "  <thead>\n",
       "    <tr style=\"text-align: right;\">\n",
       "      <th></th>\n",
       "      <th>Time</th>\n",
       "      <th>SP500 Index</th>\n",
       "      <th>Optimized Portfolio</th>\n",
       "      <th>LSTM Optimized Portfolio</th>\n",
       "    </tr>\n",
       "  </thead>\n",
       "  <tbody>\n",
       "    <tr>\n",
       "      <th>0</th>\n",
       "      <td>t</td>\n",
       "      <td>2.33%</td>\n",
       "      <td>2.03%</td>\n",
       "      <td>-0.59%</td>\n",
       "    </tr>\n",
       "    <tr>\n",
       "      <th>1</th>\n",
       "      <td>t - 1 quarter</td>\n",
       "      <td>1.37%</td>\n",
       "      <td>1.45%</td>\n",
       "      <td>2.31%</td>\n",
       "    </tr>\n",
       "  </tbody>\n",
       "</table>\n",
       "</div>"
      ],
      "text/plain": [
       "            Time SP500 Index Optimized Portfolio LSTM Optimized Portfolio\n",
       "0              t       2.33%               2.03%                   -0.59%\n",
       "1  t - 1 quarter       1.37%               1.45%                    2.31%"
      ]
     },
     "execution_count": 414,
     "metadata": {},
     "output_type": "execute_result"
    }
   ],
   "source": [
    "evaluation"
   ]
  },
  {
   "cell_type": "markdown",
   "id": "78c3bb39-c1e3-49d2-9431-2e20a795feeb",
   "metadata": {
    "tags": []
   },
   "source": [
    "### <font color='#CC0000'>Appendix A: Accessing Stock Market Data</font>\n",
    "\n",
    "This section provides the code generated for accessing stock market data via API in a manner that can be updated automatically for current as well as real-time analysis."
   ]
  },
  {
   "cell_type": "code",
   "execution_count": null,
   "id": "31b4bad9-6fc2-4163-82f5-e06707d90b8c",
   "metadata": {},
   "outputs": [],
   "source": [
    "# Remove comment block to run the code below\n",
    "# Expected runtime to generate the latest dataset is approx. 20min due to IEX finance API limitation\n",
    "\n",
    "\"\"\"\n",
    "pip install iexfinance\n",
    "pip install beautifulsoup4\n",
    "pip install lxml\n",
    "\n",
    "import requests\n",
    "import csv\n",
    "from datetime import date, timedelta, datetime\n",
    "from dateutil.relativedelta import relativedelta\n",
    "from bs4 import BeautifulSoup\n",
    "from iexfinance.stocks import get_historical_data, get_historical_intraday, Stock\n",
    "\n",
    "#IEX Finance API no longer offers a free version so this key will have to be replaced weekly when the free trial expires\n",
    "# provided public api key is no longer valid, please insert your own\n",
    "api_key = \"pk_f85211ff18244b6cb07ec6c9e37723f3\"\n",
    "\n",
    "def get_tickers():\n",
    "    '''Returns an array of stock tickers from wikipedia.org/wiki/List_of_S%26P_500_companies'''\n",
    "    html_text = requests.get(\"https://en.wikipedia.org/wiki/List_of_S%26P_500_companies\").text\n",
    "    soup = BeautifulSoup(html_text, \"lxml\")\n",
    "    table = soup.find(\"table\", class_ = \"wikitable sortable\")\n",
    "    company_elements = table.find_all(\"a\", class_ = \"external text\")\n",
    "\n",
    "    tickers = []\n",
    "\n",
    "    for company_element in company_elements:\n",
    "        company = str(company_element.contents[0]).lower()\n",
    "        if company not in tickers:\n",
    "            tickers.append(company.upper())\n",
    "            \n",
    "    return tickers\n",
    "    \n",
    "tickers = get_tickers()\n",
    "\n",
    "def create_sorted_historical_csv(tickers):\n",
    "    '''Creates a sorted csv of historical stock data for the past 5 years for the given list of stock tickers'''\n",
    "    start = datetime(2018, 6, 4)\n",
    "    end = datetime(2023, 6, 4)\n",
    "\n",
    "    df = pd.DataFrame()\n",
    "    data_frame_list = []\n",
    "\n",
    "    for ticker in tickers:\n",
    "        df = get_historical_data(ticker, start, end, output_format='pandas', token=api_key)\n",
    "        df = df.drop([\"id\", \"subkey\", \"updated\", \"label\", \"change\", \"high\", \"fHigh\", \"uHigh\", \"low\", \"uLow\", \"fLow\"], axis=1)\n",
    "        data_frame_list.append(df)\n",
    "\n",
    "    df2 = pd.concat(data_frame_list)\n",
    "    df2 = df2.sort_values(by=[\"priceDate\"])\n",
    "    df2.insert(0, 'Helpers', range(0, len(df2)))\n",
    "    df2 = df2.set_index(\"priceDate\")\n",
    "    df2.to_csv(\"SP500DataSetDateSorted.csv\")\n",
    "    print(df2)\n",
    "    \n",
    "#create_sorted_historical_csv(tickers)\n",
    "def update_data_set(to_be_updated, tickers, start_date=str((datetime.strptime(pd.read_csv(\"SP500DataSetDateSorted.csv\")[\"priceDate\"].iloc[-1], '%Y-%m-%d') + timedelta(days=1)))[0:10], today_date=date.today()):\n",
    "    '''Updates the given csv file to include the day after the last day already included to yesterdays date. Due to technical limitatons of the IEX Finance API, I was unable to find a way to use the get_historical_data function to pull stock data after the 4pm close as the API tracks after hours trading.'''\n",
    "    df = pd.DataFrame()\n",
    "    data_frame_list = []\n",
    "\n",
    "    for ticker in tickers:\n",
    "        df = get_historical_data(ticker, start_date, today_date, output_format='pandas', token=api_key)\n",
    "        df = df.drop([\"id\", \"subkey\", \"updated\", \"label\", \"change\", \"high\", \"fHigh\", \"uHigh\", \"low\", \"uLow\", \"fLow\"], axis=1)\n",
    "        data_frame_list.append(df)\n",
    "\n",
    "    df2 = pd.concat(data_frame_list)\n",
    "    df2 = df2.sort_values(by=[\"priceDate\"])\n",
    "    df_prev = pd.read_csv(to_be_updated)\n",
    "    \n",
    "    df_merged = pd.concat([df_prev, df2])\n",
    "    \n",
    "    day = str(date.today()-relativedelta(years=5))\n",
    "    i = 1\n",
    "    \n",
    "    while True:\n",
    "        if df_merged.index[df_merged[\"priceDate\"].isin([day])==True].tolist() != []:\n",
    "            #Removes the same number of days from the dataframe that were added to the dataframe. \n",
    "            #The range for removal goes from the date of the first element to the date of the last element added minus 5 years.\n",
    "            #If that element doesn't exist, it will subtract one day and continue to do so until a valid day is found.\n",
    "            df_merged.drop(df_merged.index[int(df_merged.iloc[0][1]):int(df_merged.index[df_merged[\"priceDate\"].isin([day])==True].tolist()[0])], axis=0, inplace=True)\n",
    "            break\n",
    "        else:\n",
    "            day = str(date.today()-relativedelta(years=5)-timedelta(days=i))\n",
    "            if i == 5:\n",
    "                break\n",
    "            else:\n",
    "                i+=1\n",
    "        \n",
    "    df_merged = df_merged.drop([\"Helpers\"], axis=1)\n",
    "    df_merged.insert(0, \"Helpers\", range(0, len(df_merged)))\n",
    "    df_merged = df_merged.set_index(\"priceDate\")\n",
    "    df_merged.to_csv(\"SP500DataSetDateSortedUpdated\" + str(date.today()) + \".csv\")\n",
    "    \n",
    "    \n",
    "def create_key_stats_csv(tickers):\n",
    "    '''Creates a csv of stock statistics for the current past fiscal quarter for the given list of stock tickers'''\n",
    "    df3 = pd.DataFrame()\n",
    "    data_frame_list_2 = []\n",
    "\n",
    "    for ticker in tickers:\n",
    "        df3 = Stock(ticker, token=api_key).get_key_stats()\n",
    "        data_frame_list_2.append(df3)\n",
    "\n",
    "    df4 = pd.concat(data_frame_list_2)\n",
    "    df4.to_csv(\"SP500DataSetKeyStats.csv\")\n",
    "    \n",
    "    \n",
    "update_data_set(\"SP500DataSetDateSorted.csv\", tickers)\n",
    "\n",
    "\"\"\""
   ]
  }
 ],
 "metadata": {
  "kernelspec": {
   "display_name": "Python 3 (ipykernel)",
   "language": "python",
   "name": "python3"
  },
  "language_info": {
   "codemirror_mode": {
    "name": "ipython",
    "version": 3
   },
   "file_extension": ".py",
   "mimetype": "text/x-python",
   "name": "python",
   "nbconvert_exporter": "python",
   "pygments_lexer": "ipython3",
   "version": "3.10.9"
  }
 },
 "nbformat": 4,
 "nbformat_minor": 5
}
